{
 "cells": [
  {
   "cell_type": "raw",
   "id": "6a624480-09e9-4fa4-8fd8-e7973ed49895",
   "metadata": {},
   "source": [
    "Q1. What is multithreading in python? Why is it used? Name the module used to handle threads in python."
   ]
  },
  {
   "cell_type": "markdown",
   "id": "f7fcf6af-4c04-469a-bd85-cc7a8ef41a3a",
   "metadata": {},
   "source": [
    "Multithreading in Python refers to the capability of a program to execute multiple threads concurrently within the same process.\n",
    "\n",
    "Multithreading is used to:\n",
    "\n",
    "1. Improve Performance: In tasks that are I/O-bound (e.g., reading/writing files, network communication), threads can help keep the CPU busy while waiting for I/O operations to complete, thus utilizing the available resources more efficiently.\n",
    "\n",
    "2. Concurrency: Threads enable different parts of a program to run concurrently, which can be useful for tasks like handling user interfaces and background processing simultaneously.\n",
    "\n",
    "3. Parallelism: Although Python's Global Interpreter Lock (GIL) limits true parallel execution of threads due to GIL's restrictions on thread access to Python objects, threads can still be beneficial in certain cases, especially when dealing with tasks that are CPU-bound and require parallel computation.\n",
    "\n",
    "\n",
    "\n",
    " the threading module is used to handle threads."
   ]
  },
  {
   "cell_type": "raw",
   "id": "9f03f32b-4570-4cb8-9663-70c97aff478b",
   "metadata": {},
   "source": [
    "Q2. Why threading module used? Write the use of the following functions:\n",
    "1. activeCount()\n",
    "2. currentThread()\n",
    "3. enumerate()"
   ]
  },
  {
   "cell_type": "markdown",
   "id": "65a5753f-47ec-4ed1-bf5e-b896903df15b",
   "metadata": {},
   "source": [
    "The threading module in Python is used to create and manage threads in a program.\n",
    "\n",
    "1. activeCount():\n",
    "\n",
    "The activeCount() function is used to return the number of Thread objects currently alive.\n",
    "This function is useful to monitor the number of active threads in a program, which can be helpful in diagnosing thread-related issues, tracking thread pool sizes, and ensuring that the program is not creating too many threads unnecessarily.\n",
    "\n",
    "2. currentThread():\n",
    "\n",
    "The currentThread() function is used to get a reference to the currently executing Thread object.\n",
    "This function allows you to access the thread instance that represents the thread in which the function is called. It can be used to retrieve information about the current thread, such as its name and attributes.\n",
    "\n",
    "3. enumerate():\n",
    "\n",
    "The enumerate() function returns a list of all currently active Thread objects.\n",
    "This function can be used to retrieve a list of Thread instances currently alive. It is useful when you need to iterate over all active threads to perform operations like monitoring, inspection, or synchronization.\n"
   ]
  },
  {
   "cell_type": "raw",
   "id": "305ec2fe-b5ba-49cc-b0d0-3777f6e92f5f",
   "metadata": {},
   "source": [
    "Q3. Explain the following functions:\n",
    "1. run()\n",
    "2. start()\n",
    "3. join()\n",
    "4. isAlive()"
   ]
  },
  {
   "cell_type": "markdown",
   "id": "5b6b5b21-e0e5-45b7-8332-7a92d70b1f77",
   "metadata": {},
   "source": [
    "run():\n",
    "\n",
    "The run() method is a part of the Thread class in the threading module.\n",
    "It defines the code to be executed by the thread when it starts running.\n",
    "When you create a custom thread class by subclassing Thread and override the run() method in your subclass, the code in the run() method will be executed when the thread is started.\n",
    "\n",
    "start():\n",
    "\n",
    "The start() method is used to initiate the execution of a thread.\n",
    "When you call the start() method on a Thread instance, the thread's run() method is invoked in a separate thread of execution.\n",
    "This method returns immediately, and the thread begins its execution concurrently with the main program or other threads.\n",
    "\n",
    "join():\n",
    "\n",
    "The join() method is used to wait for a thread to complete its execution before proceeding with the rest of the program.\n",
    "When you call join() on a thread, the calling thread (usually the main thread) will wait until the target thread finishes.\n",
    "This is useful to ensure that the main program doesn't proceed until the thread's work is done.\n",
    "\n",
    "isAlive():\n",
    "\n",
    "The isAlive() method is used to check if a thread is currently running or active.\n",
    "It returns True if the thread is still executing its code and hasn't finished, and False if the thread has completed its execution.\n",
    "This method is useful when you want to check the status of a thread and potentially take actions based on whether it's still running."
   ]
  },
  {
   "cell_type": "raw",
   "id": "f3c918de-aead-4fbb-bfcb-4bc182029e07",
   "metadata": {},
   "source": [
    "Q4. Write a python program to create two threads. Thread one must print the list of squares and thread two must print the list of cubes."
   ]
  },
  {
   "cell_type": "code",
   "execution_count": 1,
   "id": "2add647b-60ca-420b-904f-5ec45cc27a4d",
   "metadata": {},
   "outputs": [
    {
     "name": "stdout",
     "output_type": "stream",
     "text": [
      "Square of 1: 1\n",
      "Square of 2: 4\n",
      "Square of 3: 9\n",
      "Square of 4: 16\n",
      "Square of 5: 25\n",
      "Cube of 1: 1\n",
      "Cube of 2: 8\n",
      "Cube of 3: 27\n",
      "Cube of 4: 64\n",
      "Cube of 5: 125\n",
      "Both threads have finished\n"
     ]
    }
   ],
   "source": [
    "import threading\n",
    "\n",
    "def print_squares():\n",
    "    for i in range(1, 6):\n",
    "        print(f\"Square of {i}: {i**2}\")\n",
    "\n",
    "def print_cubes():\n",
    "    for i in range(1, 6):\n",
    "        print(f\"Cube of {i}: {i**3}\")\n",
    "\n",
    "# Create thread objects\n",
    "t1 = threading.Thread(target=print_squares)\n",
    "t2 = threading.Thread(target=print_cubes)\n",
    "\n",
    "# Start the threads\n",
    "t1.start()\n",
    "t2.start()\n",
    "\n",
    "# Wait for both threads to finish\n",
    "t1.join()\n",
    "t2.join()\n",
    "\n",
    "print(\"Both threads have finished\")\n"
   ]
  },
  {
   "cell_type": "raw",
   "id": "7546259d-372a-45cb-b7b5-7af776f67ec4",
   "metadata": {},
   "source": [
    "Q5. State advantages and disadvantages of multithreading."
   ]
  },
  {
   "cell_type": "markdown",
   "id": "58777710-fb61-42ce-8118-d0ded79b29ee",
   "metadata": {},
   "source": [
    "Multithreading offers several advantages and disadvantages, depending on the context and requirements of the program. Here are some of the key advantages and disadvantages of using multithreading:\n",
    "\n",
    "**Advantages of Multithreading:**\n",
    "\n",
    "1. **Concurrency:** Multithreading allows multiple tasks to be executed concurrently, improving the program's responsiveness and efficiency. This is particularly useful in applications with user interfaces or servers that need to handle multiple client requests simultaneously.\n",
    "\n",
    "2. **Resource Sharing:** Threads within the same process share memory space, which enables them to easily share data and resources. This can reduce the need for complex inter-process communication mechanisms.\n",
    "\n",
    "3. **Efficient Resource Utilization:** In tasks that are I/O-bound (e.g., reading/writing files, network communication), threads can keep the CPU active while waiting for I/O operations to complete, thus making better use of available resources.\n",
    "\n",
    "4. **Faster Execution:** In some cases, such as CPU-bound tasks, multithreading can lead to improved performance by allowing tasks to be executed in parallel, utilizing multiple CPU cores.\n",
    "\n",
    "5. **Reduced Latency:** Threads can help reduce the latency in executing tasks, especially when tasks can be divided into smaller units of work that can be executed concurrently.\n",
    "\n",
    "6. **Modularity and Responsiveness:** Multithreading can help design programs in a more modular way, making it easier to separate tasks and manage the codebase. It also enhances the program's responsiveness by preventing one thread's blocking operation from affecting other threads.\n",
    "\n",
    "**Disadvantages of Multithreading:**\n",
    "\n",
    "1. **Complexity:** Multithreaded programs can be complex to design, implement, and debug. Managing synchronization, race conditions, and deadlocks can be challenging, leading to hard-to-diagnose issues.\n",
    "\n",
    "2. **Synchronization Issues:** Threads may need to synchronize their actions to avoid conflicts and maintain data consistency. Incorrect synchronization can lead to race conditions, data corruption, and other bugs.\n",
    "\n",
    "3. **Resource Contentions:** Threads within the same process share resources, which can lead to resource contentions and contention for shared resources like memory, locks, and CPU time.\n",
    "\n",
    "4. **Overhead:** Threads have their own overhead, including memory consumption for maintaining thread-specific data and context switching between threads. Creating and managing threads can also consume additional resources.\n",
    "\n",
    "5. **Limited Scalability:** In some cases, due to the Global Interpreter Lock (GIL) in CPython, Python threads are not suitable for taking full advantage of multiple CPU cores in CPU-bound tasks. This can limit scalability in certain scenarios.\n",
    "\n",
    "6. **Debugging Complexity:** Debugging multithreaded programs can be challenging, as issues may be non-deterministic and hard to reproduce consistently.\n",
    "\n",
    "7. **Increased Complexity in Design:** Designing software for multithreading requires careful consideration of thread safety, synchronization mechanisms, and potential performance trade-offs.\n",
    "\n",
    "In conclusion, multithreading can provide substantial benefits in terms of concurrency, resource sharing, and improved responsiveness. However, it also introduces challenges related to synchronization, complexity, and potential performance limitations. Developers need to carefully assess the requirements of their application and weigh the advantages against the disadvantages when deciding whether to use multithreading."
   ]
  },
  {
   "cell_type": "raw",
   "id": "5740f34e-fd8f-40a8-92f8-ac922bb99c97",
   "metadata": {},
   "source": [
    "Q6. Explain deadlocks and race conditions."
   ]
  },
  {
   "cell_type": "code",
   "execution_count": null,
   "id": "c1205b23-d7e3-4c20-a807-4cf6eaf756de",
   "metadata": {},
   "outputs": [],
   "source": []
  }
 ],
 "metadata": {
  "kernelspec": {
   "display_name": "Python 3 (ipykernel)",
   "language": "python",
   "name": "python3"
  },
  "language_info": {
   "codemirror_mode": {
    "name": "ipython",
    "version": 3
   },
   "file_extension": ".py",
   "mimetype": "text/x-python",
   "name": "python",
   "nbconvert_exporter": "python",
   "pygments_lexer": "ipython3",
   "version": "3.10.8"
  }
 },
 "nbformat": 4,
 "nbformat_minor": 5
}
