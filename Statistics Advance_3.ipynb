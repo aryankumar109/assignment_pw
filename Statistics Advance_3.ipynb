{
 "cells": [
  {
   "cell_type": "raw",
   "id": "ffe95efe-2d94-4f89-bb31-41aab96f4779",
   "metadata": {},
   "source": [
    "Q1: What is Estimation Statistics? Explain point estimate and interval estimate."
   ]
  },
  {
   "cell_type": "markdown",
   "id": "c9cbe145-3c8d-405b-8dd1-95f415ee32b4",
   "metadata": {},
   "source": [
    "**Estimation Statistics** is a branch of statistics that involves using sample data to estimate or make inferences about population parameters. \n",
    "\n",
    "- A **Point Estimate** is a single value used to approximate a population parameter. It provides a best guess, like calculating the sample mean to estimate the population mean.\n",
    "\n",
    "- An **Interval Estimate** is a range of values that is likely to contain the population parameter with a specified level of confidence. It accounts for uncertainty, as seen in confidence intervals where a range is determined around a point estimate."
   ]
  },
  {
   "cell_type": "raw",
   "id": "02de2256-488c-4f50-bfc2-2f423836349a",
   "metadata": {},
   "source": [
    "Q2. Write a Python function to estimate the population mean using a sample mean and standard\n",
    "deviation."
   ]
  },
  {
   "cell_type": "code",
   "execution_count": 1,
   "id": "3ee67136-a4b7-4e29-8974-ec648a898fa9",
   "metadata": {},
   "outputs": [
    {
     "name": "stdout",
     "output_type": "stream",
     "text": [
      "Estimated Population Mean: 25.50\n"
     ]
    }
   ],
   "source": [
    "def estimate_population_mean(sample_mean, sample_std, sample_size):\n",
    "    \n",
    "    # Calculate the standard error (standard deviation of the sample mean)\n",
    "    standard_error = sample_std / (sample_size ** 0.5)\n",
    "    \n",
    "    # Calculate the population mean using the sample mean and standard error\n",
    "    population_mean = sample_mean\n",
    "    \n",
    "    return population_mean\n",
    "\n",
    "# Example usage:\n",
    "sample_mean = 25.5\n",
    "sample_std = 3.2\n",
    "sample_size = 100\n",
    "estimated_mean = estimate_population_mean(sample_mean, sample_std, sample_size)\n",
    "print(f\"Estimated Population Mean: {estimated_mean:.2f}\")\n"
   ]
  },
  {
   "cell_type": "raw",
   "id": "d782f92b-7cd7-4ccb-b51a-9f5910404549",
   "metadata": {},
   "source": [
    "Q3: What is Hypothesis testing? Why is it used? State the importance of Hypothesis testing."
   ]
  },
  {
   "cell_type": "markdown",
   "id": "fccc7bb9-3d69-441c-b6d5-effe14f6feb5",
   "metadata": {},
   "source": [
    "**Hypothesis testing** is a statistical method used to make inferences about population parameters based on sample data. It is used to evaluate competing hypotheses by assessing the evidence provided by the sample data.\n",
    "\n",
    "**Importance of Hypothesis Testing:**\n",
    "- It helps make informed decisions and draw conclusions based on data.\n",
    "- It provides a systematic way to assess the validity of assumptions and theories.\n",
    "- It aids in scientific research, quality control, and decision-making in various fields.\n",
    "- It allows researchers to test the impact of interventions and analyze the effectiveness of treatments or policies.\n",
    "- It forms the basis for statistical inference and provides a framework for drawing generalizable conclusions from data."
   ]
  },
  {
   "cell_type": "raw",
   "id": "12b2d964-1631-41d9-aa49-7ba1c01d72ba",
   "metadata": {},
   "source": [
    "Q4. Create a hypothesis that states whether the average weight of male college students is greater than\n",
    "the average weight of female college students."
   ]
  },
  {
   "cell_type": "markdown",
   "id": "6aea422f-921d-4807-98c9-6a8d470ab749",
   "metadata": {},
   "source": [
    "**Null Hypothesis (H0):** The average weight of male college students is greater than the average weight of female college students.\n",
    "\n",
    "**Alternative Hypothesis (Ha):** The average weight of male college students is equal to or less than the average weight of female college students."
   ]
  },
  {
   "cell_type": "raw",
   "id": "2a74c447-3717-451d-b94a-e47b2e103252",
   "metadata": {},
   "source": [
    "Q5. Write a Python script to conduct a hypothesis test on the difference between two population means,\n",
    "given a sample from each population."
   ]
  },
  {
   "cell_type": "code",
   "execution_count": 3,
   "id": "2a59e9e5-15cc-47a9-a230-6c297a29d444",
   "metadata": {},
   "outputs": [
    {
     "name": "stdout",
     "output_type": "stream",
     "text": [
      "Fail to reject the null hypothesis; there is not enough evidence to conclude that there is a significant difference between the two population means.\n"
     ]
    }
   ],
   "source": [
    "# Import the necessary libraries\n",
    "import numpy as np\n",
    "from scipy.stats import ttest_ind\n",
    "\n",
    "# Define the null and alternative hypotheses\n",
    "H0 = \"The two population means are equal\"\n",
    "Ha = \"The two population means are not equal\"\n",
    "\n",
    "# Set the significance level\n",
    "alpha = 0.05\n",
    "sample_1 = np.random.normal(size=100)\n",
    "sample_2 = np.random.normal(size=100)\n",
    "# Calculate the sample means and standard deviations\n",
    "sample_1_mean = np.mean(sample_1)\n",
    "sample_1_std = np.std(sample_1)\n",
    "sample_2_mean = np.mean(sample_2)\n",
    "sample_2_std = np.std(sample_2)\n",
    "\n",
    "# Calculate the t-statistic\n",
    "t_stat = (sample_1_mean - sample_2_mean) / np.sqrt(sample_1_std**2 / len(sample_1) + sample_2_std**2 / len(sample_2))\n",
    "\n",
    "# Calculate the p-value\n",
    "p_value = ttest_ind(sample_1, sample_2, equal_var=False)[1]\n",
    "\n",
    "# Make a decision\n",
    "if p_value < alpha:\n",
    "    print(\"Reject the null hypothesis; there is a significant difference between the two population means.\")\n",
    "else:\n",
    "    print(\"Fail to reject the null hypothesis; there is not enough evidence to conclude that there is a significant difference between the two population means.\")\n"
   ]
  },
  {
   "cell_type": "raw",
   "id": "425492be-cb9f-45a3-ba1c-e35518893ca2",
   "metadata": {},
   "source": [
    "Q6: What is a null and alternative hypothesis? Give some examples."
   ]
  },
  {
   "cell_type": "markdown",
   "id": "f7c0b790-bb68-488b-9c89-7bd0a7b8b525",
   "metadata": {},
   "source": [
    "A **null hypothesis** (H0) is a statement about a population that is assumed to be true until proven otherwise. The **alternative hypothesis** (Ha) is a statement that is contradictory to the null hypothesis.\n",
    "\n",
    "Hypothesis tests are used to determine whether there is enough evidence to reject the null hypothesis in favor of the alternative hypothesis.\n",
    "\n",
    "**Examples:**\n",
    "\n",
    "* **Null hypothesis:** There is no difference in the average height of men and women.\n",
    "* **Alternative hypothesis:** Men are taller than women, on average.\n",
    "\n",
    "* **Null hypothesis:** There is no relationship between smoking and lung cancer.\n",
    "* **Alternative hypothesis:** Smoking increases the risk of lung cancer.\n",
    "\n",
    "* **Null hypothesis:** A new drug is no more effective than a placebo in treating a certain disease.\n",
    "* **Alternative hypothesis:** The new drug is more effective than a placebo in treating the disease.\n",
    "\n",
    "In each of these examples, the null hypothesis is the statement that there is no effect. The alternative hypothesis is the statement that there is an effect.\n",
    "\n",
    "Hypothesis tests are used in a wide variety of fields, including science, medicine, business, and social sciences.\n",
    "\n",
    "**Example:**\n",
    "\n",
    "A researcher wants to test whether a new drug is more effective than a placebo in treating a certain disease. The researcher collects data from a group of patients who are randomly assigned to receive either the new drug or the placebo.\n",
    "\n",
    "The researcher then compares the average outcome of the two groups. If the average outcome is significantly better in the group that received the new drug, then the researcher can reject the null hypothesis and conclude that the new drug is more effective than the placebo.\n",
    "\n",
    "Hypothesis tests are a powerful tool for scientific research. By testing hypotheses, researchers can gain new knowledge about the world around us."
   ]
  },
  {
   "cell_type": "raw",
   "id": "67d10d4e-732b-4817-9501-a1ed6e0c8c02",
   "metadata": {},
   "source": [
    "Q7: Write down the steps involved in hypothesis testing."
   ]
  },
  {
   "cell_type": "markdown",
   "id": "d45a164b-4cd8-497d-876b-94a3ab654dab",
   "metadata": {},
   "source": [
    "1. State the null and alternative hypotheses.\n",
    "2. Collect data.\n",
    "3. Choose a statistical test.\n",
    "4. Calculate the test statistic.\n",
    "5. Calculate the p-value.\n",
    "6. Make a decision."
   ]
  },
  {
   "cell_type": "raw",
   "id": "ab7d5e1b-33a3-4553-9ca2-562f852c9ddf",
   "metadata": {},
   "source": [
    "Q8. Define p-value and explain its significance in hypothesis testing."
   ]
  },
  {
   "cell_type": "markdown",
   "id": "b2b837f0-5643-4893-9d3d-ded49cd040ca",
   "metadata": {},
   "source": [
    "The **p-value** is the probability of obtaining a test statistic that is at least as extreme as the one that was observed, assuming that the null hypothesis is true. In other words, the p-value is a measure of how likely the data is to be observed if the null hypothesis is true.\n",
    "\n",
    "The p-value is significant in hypothesis testing because it is used to make a decision about whether or not to reject the null hypothesis. If the p-value is less than the significance level, then the null hypothesis is rejected. This means that there is enough evidence to conclude that the alternative hypothesis is true.\n",
    "\n",
    "The significance level is a pre-specified threshold that determines how much evidence is needed to reject the null hypothesis. A common significance level is 0.05, which means that the null hypothesis is rejected if there is a less than 5% chance of obtaining the observed data if the null hypothesis is true.\n",
    "\n",
    "It is important to note that the p-value is not the probability of the null hypothesis being true. It is simply the probability of obtaining the observed data if the null hypothesis is true.\n",
    "\n",
    "Here is an example of how to interpret the p-value in a hypothesis test:\n",
    "\n",
    "Suppose that a researcher wants to test whether a new drug is more effective than a placebo in treating a certain disease. The researcher collects data from a group of patients who are randomly assigned to receive either the new drug or the placebo.\n",
    "\n",
    "The researcher then compares the average outcome of the two groups. If the average outcome is significantly better in the group that received the new drug, then the researcher can reject the null hypothesis and conclude that the new drug is more effective than the placebo.\n",
    "\n",
    "The p-value for the hypothesis test is 0.03. This means that there is a 3% chance of obtaining the observed data if the null hypothesis is true. Since the p-value is less than the significance level of 0.05, the researcher rejects the null hypothesis and concludes that the new drug is more effective than the placebo.\n",
    "\n",
    "In general, a lower p-value indicates stronger evidence against the null hypothesis."
   ]
  },
  {
   "cell_type": "raw",
   "id": "8fa30ad3-5ea9-47b9-9e49-859d17fdabab",
   "metadata": {},
   "source": [
    "Q9. Generate a Student's t-distribution plot using Python's matplotlib library, with the degrees of freedom\n",
    "parameter set to 10."
   ]
  },
  {
   "cell_type": "code",
   "execution_count": 4,
   "id": "0bef9215-a87d-4a06-8fcb-813d1a39ff5b",
   "metadata": {},
   "outputs": [
    {
     "data": {
      "image/png": "[encoded data removed]",
      "text/plain": [
       "<Figure size 640x480 with 1 Axes>"
      ]
     },
     "metadata": {},
     "output_type": "display_data"
    }
   ],
   "source": [
    "import numpy as np\n",
    "import matplotlib.pyplot as plt\n",
    "import scipy.stats\n",
    "# Set the degrees of freedom\n",
    "df = 10\n",
    "\n",
    "# Generate a range of x-values\n",
    "x = np.linspace(-5, 5, 1000)\n",
    "\n",
    "# Calculate the t-distribution probability density function (PDF)\n",
    "t_pdf = scipy.stats.t.pdf(x, df)\n",
    "\n",
    "# Plot the t-distribution PDF\n",
    "plt.plot(x, t_pdf, linewidth=2, color='red')\n",
    "\n",
    "# Set the plot title and labels\n",
    "plt.title('Student\\'s t-Distribution Plot (df = 10)')\n",
    "plt.xlabel('x')\n",
    "plt.ylabel('PDF')\n",
    "\n",
    "# Show the plot\n",
    "plt.show()\n"
   ]
  },
  {
   "cell_type": "raw",
   "id": "363bafa8-e5f9-4bda-b81e-a9daadda58a9",
   "metadata": {},
   "source": [
    "Q10. Write a Python program to calculate the two-sample t-test for independent samples, given two\n",
    "random samples of equal size and a null hypothesis that the population means are equal."
   ]
  },
  {
   "cell_type": "code",
   "execution_count": 1,
   "id": "1481a871-59a3-455c-b2ae-9f5a1156bce4",
   "metadata": {},
   "outputs": [
    {
     "name": "stdout",
     "output_type": "stream",
     "text": [
      "t-statistic: 1.4811898401023562\n",
      "p-value: 0.14213651682987383\n"
     ]
    }
   ],
   "source": [
    "import numpy as np\n",
    "from scipy.stats import ttest_ind\n",
    "\n",
    "def two_sample_t_test(sample_1, sample_2, alpha=0.05):\n",
    "  \n",
    "\n",
    "  # Calculate the sample means and standard deviations\n",
    "  sample_1_mean = np.mean(sample_1)\n",
    "  sample_1_std = np.std(sample_1)\n",
    "  sample_2_mean = np.mean(sample_2)\n",
    "  sample_2_std = np.std(sample_2)\n",
    "\n",
    "  # Calculate the t-statistic\n",
    "  t_stat = (sample_1_mean - sample_2_mean) / np.sqrt(\n",
    "      sample_1_std**2 / sample_1.size + sample_2_std**2 / sample_2.size)\n",
    "\n",
    "  # Calculate the p-value\n",
    "  p_value = ttest_ind(sample_1, sample_2, equal_var=False)[1]\n",
    "\n",
    "  return t_stat, p_value\n",
    "\n",
    "# Example usage:\n",
    "\n",
    "sample_1 = np.random.normal(size=100)\n",
    "sample_2 = np.random.normal(size=100)\n",
    "\n",
    "t_stat, p_value = two_sample_t_test(sample_1, sample_2)\n",
    "\n",
    "# Print the results\n",
    "print(\"t-statistic:\", t_stat)\n",
    "print(\"p-value:\", p_value)\n"
   ]
  },
  {
   "cell_type": "markdown",
   "id": "efcd4038-caf9-4046-96aa-0d9651acaaf3",
   "metadata": {},
   "source": [
    "Since the p-value is greater than the significance level of 0.05, we fail to reject the null hypothesis. This means that there is not enough evidence to conclude that there is a significant difference between the two population means."
   ]
  },
  {
   "cell_type": "raw",
   "id": "3cae6cbd-071b-43a9-ae3f-613f6d9f75c8",
   "metadata": {},
   "source": [
    "Q11: What is Student’s t distribution? When to use the t-Distribution."
   ]
  },
  {
   "cell_type": "markdown",
   "id": "7e3665fe-c85c-4cca-8e93-97c281cdc881",
   "metadata": {},
   "source": [
    "Student's t-distribution is a probability distribution that is used for making inferences about the population mean when the sample size is small or when the population standard deviation is unknown. It is similar to the standard normal distribution (Z-distribution), but it has heavier tails, which means that it is more likely to produce extreme values.\n",
    "\n",
    "The t-distribution is used in a variety of statistical tests, including the t-test, the analysis of variance (ANOVA), and the linear regression. It is also used in confidence intervals and hypothesis tests for the population mean.\n",
    "\n",
    "When to use the t-distribution:\n",
    "\n",
    "* When the sample size is small (less than 30).\n",
    "* When the population standard deviation is unknown.\n",
    "* When the data is approximately normally distributed.\n",
    "\n",
    "If the sample size is large (greater than 30) and the population standard deviation is known, then the standard normal distribution can be used instead of the t-distribution.\n",
    "\n",
    "Here are some examples of situations where the t-distribution might be used:\n",
    "\n",
    "* A researcher wants to test whether a new drug is more effective than a placebo in treating a certain disease. The researcher collects data from a small group of patients who are randomly assigned to receive either the new drug or the placebo.\n",
    "* A teacher wants to test whether a new teaching method is more effective than the traditional teaching method. The teacher randomly assigns students to either the new teaching method or the traditional teaching method.\n",
    "* A company wants to test whether a new marketing campaign is more effective than the previous marketing campaign. The company randomly assigns customers to either the new marketing campaign or the previous marketing campaign.\n",
    "\n",
    "In each of these cases, the researcher, teacher, or company would use the t-distribution to test their hypothesis.\n",
    "\n"
   ]
  },
  {
   "cell_type": "raw",
   "id": "23c8f78d-8f6d-4d1e-9737-eb2e1988f2dd",
   "metadata": {},
   "source": [
    "Q12: What is t-statistic? State the formula for t-statistic."
   ]
  },
  {
   "cell_type": "markdown",
   "id": "03b60ac7-88a4-43df-a7f6-50456c5669fa",
   "metadata": {},
   "source": [
    "The t-statistic is a measure of how different two sample means are, relative to the standard error of the difference. It is used in the t-test, which is a statistical test for comparing the means of two groups.\n",
    "\n",
    "The formula for the t-statistic is:\n",
    "\n",
    "```\n",
    "t = (x̄₁ - x̄₂ ) / √(s₁² / n₁ + s₂² / n₂)\n",
    "```\n",
    "\n",
    "where:\n",
    "\n",
    "* x̄₁ and x̄₂ are the sample means of the two groups\n",
    "* s₁ and s₂ are the sample standard deviations of the two groups\n",
    "* n₁ and n₂ are the sample sizes of the two groups\n",
    "\n",
    "The t-statistic is calculated by subtracting the two sample means and dividing by the standard error of the difference. The standard error of the difference is a measure of how much the difference between the two sample means is likely to vary due to chance.\n",
    "\n",
    "A higher t-statistic indicates that the difference between the two sample means is more likely to be due to a real difference between the two populations, rather than due to chance.\n",
    "\n",
    "The t-statistic is used to calculate the p-value for the t-test. The p-value is the probability of obtaining a t-statistic that is at least as extreme as the one that was observed, assuming that the null hypothesis is true. The null hypothesis is the statement that there is no difference between the means of the two populations.\n",
    "\n",
    "If the p-value is less than the significance level, then the null hypothesis is rejected. This means that there is enough evidence to conclude that there is a significant difference between the means of the two populations.\n",
    "\n",
    "The t-test is a powerful tool for comparing the means of two groups. It is used in a wide variety of fields, including science, medicine, business, and social sciences."
   ]
  },
  {
   "cell_type": "raw",
   "id": "a6e33ab7-9ce3-46ef-98fe-03829ca5ce6c",
   "metadata": {},
   "source": [
    "Q13. A coffee shop owner wants to estimate the average daily revenue for their shop. They take a random\n",
    "sample of 50 days and find the sample mean revenue to be $500 with a standard deviation of $50.\n",
    "Estimate the population mean revenue with a 95% confidence interval."
   ]
  },
  {
   "cell_type": "markdown",
   "id": "af7d0f73-e45d-47af-943f-8d3f5dba729a",
   "metadata": {},
   "source": [
    "To estimate the population mean revenue with a 95% confidence interval, we can use the following formula:\n",
    "\n",
    "```\n",
    "CI = x̄ ± 1.96 * (s / √n)\n",
    "```\n",
    "\n",
    "where:\n",
    "\n",
    "* x̄ is the sample mean\n",
    "* s is the sample standard deviation\n",
    "* n is the sample size\n",
    "* 1.96 is the z-score for a 95% confidence interval\n",
    "\n",
    "Plugging in the values from the question, we get:\n",
    "\n",
    "```\n",
    "CI = $500 ± 1.96 * ($50 / √50)\n",
    "```\n",
    "\n",
    "```\n",
    "CI = $500 ± $19.60\n",
    "```\n",
    "\n",
    "Therefore, we estimate that the population mean revenue is between $480.40 and $519.60 with a 95% confidence interval.\n",
    "\n",
    "This means that we are 95% confident that the true population mean revenue is within the range of $480.40 and $519.60.\n",
    "\n",
    "It is important to note that the confidence interval is only an estimate. The true population mean revenue could be outside of the confidence interval, but it is unlikely."
   ]
  },
  {
   "cell_type": "raw",
   "id": "1e4e4fab-02cf-4913-bd08-e2bdc80de170",
   "metadata": {},
   "source": [
    "Q14. A researcher hypothesizes that a new drug will decrease blood pressure by 10 mmHg. They conduct a\n",
    "clinical trial with 100 patients and find that the sample mean decrease in blood pressure is 8 mmHg with a\n",
    "standard deviation of 3 mmHg. Test the hypothesis with a significance level of 0.05."
   ]
  },
  {
   "cell_type": "markdown",
   "id": "c96e10cf-47e4-4bfc-9fbe-f67b157cb0c8",
   "metadata": {},
   "source": [
    "To test the hypothesis that a new drug will decrease blood pressure by 10 mmHg, we can use a one-sample t-test.\n",
    "\n",
    "The null hypothesis is that there is no difference between the mean decrease in blood pressure and 10 mmHg. The alternative hypothesis is that the mean decrease in blood pressure is less than 10 mmHg.\n",
    "\n",
    "The significance level is 0.05, which means that we are willing to reject the null hypothesis if there is a 5% chance of obtaining the observed results under the null hypothesis.\n",
    "\n",
    "The test statistic is calculated as follows:\n",
    "\n",
    "```\n",
    "t = (x̄ - μ₀) / (s / √n)\n",
    "```\n",
    "\n",
    "where:\n",
    "\n",
    "* x̄ is the sample mean decrease in blood pressure (8 mmHg)\n",
    "* μ₀ is the hypothesized mean decrease in blood pressure (10 mmHg)\n",
    "* s is the sample standard deviation (3 mmHg)\n",
    "* n is the sample size (100 patients)\n",
    "\n",
    "Plugging in the values, we get:\n",
    "\n",
    "```\n",
    "t = (8 - 10) / (3 / √100)\n",
    "```\n",
    "\n",
    "```\n",
    "t = -2.67\n",
    "```\n",
    "\n",
    "The p-value for the t-test is the probability of obtaining a t-statistic that is at least as extreme as -2.67, assuming that the null hypothesis is true. We can use a t-table to find the p-value.\n",
    "\n",
    "For a one-sample t-test with 99 degrees of freedom (100 patients - 1), the p-value for a t-statistic of -2.67 is 0.005.\n",
    "\n",
    "Since the p-value is less than the significance level of 0.05, we reject the null hypothesis. This means that there is enough evidence to conclude that the new drug decreases blood pressure by less than 10 mmHg.\n",
    "\n",
    "In conclusion, the researcher's hypothesis that the new drug will decrease blood pressure by 10 mmHg is supported by the data."
   ]
  },
  {
   "cell_type": "raw",
   "id": "a4a8b02b-843a-4a6c-adb9-daf8c4a8889a",
   "metadata": {},
   "source": [
    "Q15. An electronics company produces a certain type of product with a mean weight of 5 pounds and a\n",
    "standard deviation of 0.5 pounds. A random sample of 25 products is taken, and the sample mean weight\n",
    "is found to be 4.8 pounds. Test the hypothesis that the true mean weight of the products is less than 5\n",
    "pounds with a significance level of 0.01."
   ]
  },
  {
   "cell_type": "markdown",
   "id": "ce41bc27-9171-4b4b-bfbb-860e3693d31e",
   "metadata": {},
   "source": [
    "To test the hypothesis that the true mean weight of the products is less than 5 pounds with a significance level of 0.01, we can use a one-sample t-test.\n",
    "\n",
    "**Step 1: State the null and alternative hypotheses**\n",
    "\n",
    "The null hypothesis is that the true mean weight of the products is equal to 5 pounds. The alternative hypothesis is that the true mean weight of the products is less than 5 pounds.\n",
    "\n",
    "**Step 2: Choose a statistical test**\n",
    "\n",
    "We will use a one-sample t-test because we have a single sample and we are testing a hypothesis about the population mean.\n",
    "\n",
    "**Step 3: Calculate the test statistic**\n",
    "\n",
    "The test statistic for a one-sample t-test is calculated as follows:\n",
    "\n",
    "```\n",
    "t = (x̄ - μ₀) / (s / √n)\n",
    "```\n",
    "\n",
    "where:\n",
    "\n",
    "* x̄ is the sample mean (4.8 pounds)\n",
    "* μ₀ is the hypothesized population mean (5 pounds)\n",
    "* s is the sample standard deviation (0.5 pounds)\n",
    "* n is the sample size (25 products)\n",
    "\n",
    "Plugging in the values, we get:\n",
    "\n",
    "```\n",
    "t = (4.8 - 5) / (0.5 / √25)\n",
    "```\n",
    "\n",
    "```\n",
    "t = -2.00\n",
    "```\n",
    "\n",
    "**Step 4: Calculate the p-value**\n",
    "\n",
    "The p-value for a one-sample t-test is the probability of obtaining a t-statistic that is at least as extreme as -2.00, assuming that the null hypothesis is true. We can use a t-table to find the p-value.\n",
    "\n",
    "For a one-sample t-test with 24 degrees of freedom (25 products - 1), the p-value for a t-statistic of -2.00 is 0.026.\n",
    "\n",
    "**Step 5: Make a decision**\n",
    "\n",
    "Since the p-value is less than the significance level of 0.01, we reject the null hypothesis. This means that there is enough evidence to conclude that the true mean weight of the products is less than 5 pounds.\n",
    "\n",
    "**Conclusion**\n",
    "\n",
    "We can reject the null hypothesis that the true mean weight of the products is equal to 5 pounds. There is enough evidence to conclude that the true mean weight of the products is less than 5 pounds."
   ]
  },
  {
   "cell_type": "raw",
   "id": "def4c9c8-fc77-421d-9a10-0f6cd9bd7e8c",
   "metadata": {},
   "source": [
    "Q16. Two groups of students are given different study materials to prepare for a test. The first group (n1 =\n",
    "30) has a mean score of 80 with a standard deviation of 10, and the second group (n2 = 40) has a mean\n",
    "score of 75 with a standard deviation of 8. Test the hypothesis that the population means for the two\n",
    "groups are equal with a significance level of 0.01."
   ]
  },
  {
   "cell_type": "markdown",
   "id": "122da1c2-016a-48dd-a139-3b5c2e560105",
   "metadata": {},
   "source": [
    "To test the hypothesis that the population means for the two groups are equal with a significance level of 0.01, we can use a two-sample t-test.\n",
    "\n",
    "**Step 1: State the null and alternative hypotheses**\n",
    "\n",
    "The null hypothesis is that the population means for the two groups are equal. The alternative hypothesis is that the population means for the two groups are not equal.\n",
    "\n",
    "**Step 2: Choose a statistical test**\n",
    "\n",
    "We will use a two-sample t-test because we have two independent samples and we are testing a hypothesis about the difference between the population means.\n",
    "\n",
    "**Step 3: Calculate the test statistic**\n",
    "\n",
    "The test statistic for a two-sample t-test is calculated as follows:\n",
    "\n",
    "```\n",
    "t = (x̄₁ - x̄₂ ) / √(s₁² / n₁ + s₂² / n₂)\n",
    "```\n",
    "\n",
    "where:\n",
    "\n",
    "* x̄₁ and x̄₂ are the sample means of the two groups (80 and 75, respectively)\n",
    "* s₁ and s₂ are the sample standard deviations of the two groups (10 and 8, respectively)\n",
    "* n₁ and n₂ are the sample sizes of the two groups (30 and 40, respectively)\n",
    "\n",
    "Plugging in the values, we get:\n",
    "\n",
    "```\n",
    "t = (80 - 75) / √(10² / 30 + 8² / 40)\n",
    "```\n",
    "\n",
    "```\n",
    "t = 1.67\n",
    "```\n",
    "\n",
    "**Step 4: Calculate the p-value**\n",
    "\n",
    "The p-value for a two-sample t-test is the probability of obtaining a t-statistic that is at least as extreme as 1.67, assuming that the null hypothesis is true. We can use a t-table to find the p-value.\n",
    "\n",
    "For a two-sample t-test with 68 degrees of freedom (30 + 40 - 2), the p-value for a t-statistic of 1.67 is 0.097.\n",
    "\n",
    "**Step 5: Make a decision**\n",
    "\n",
    "Since the p-value is greater than the significance level of 0.01, we fail to reject the null hypothesis. This means that there is not enough evidence to conclude that there is a significant difference between the population means for the two groups.\n",
    "\n",
    "**Conclusion**\n",
    "\n",
    "We fail to reject the null hypothesis that the population means for the two groups are equal. There is not enough evidence to conclude that there is a significant difference between the two study materials in terms of their effectiveness in preparing students for the test."
   ]
  },
  {
   "cell_type": "raw",
   "id": "20cd161b-8d23-4228-9d05-8507f7035dfa",
   "metadata": {},
   "source": [
    "Q17. A marketing company wants to estimate the average number of ads watched by viewers during a TV\n",
    "program. They take a random sample of 50 viewers and find that the sample mean is 4 with a standard\n",
    "deviation of 1.5. Estimate the population mean with a 99% confidence interval."
   ]
  },
  {
   "cell_type": "code",
   "execution_count": null,
   "id": "746a5eee-c219-41ac-ae89-ff5cd16edbea",
   "metadata": {},
   "outputs": [],
   "source": []
  }
 ],
 "metadata": {
  "kernelspec": {
   "display_name": "Python 3 (ipykernel)",
   "language": "python",
   "name": "python3"
  },
  "language_info": {
   "codemirror_mode": {
    "name": "ipython",
    "version": 3
   },
   "file_extension": ".py",
   "mimetype": "text/x-python",
   "name": "python",
   "nbconvert_exporter": "python",
   "pygments_lexer": "ipython3",
   "version": "3.10.8"
  }
 },
 "nbformat": 4,
 "nbformat_minor": 5
}
