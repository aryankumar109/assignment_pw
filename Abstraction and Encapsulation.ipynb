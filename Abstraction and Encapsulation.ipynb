{
 "cells": [
  {
   "cell_type": "markdown",
   "id": "2d245e65-0931-4ec4-883f-f7480cafd7d4",
   "metadata": {},
   "source": [
    "Q1. What is Abstraction in OOps? Explain with an example."
   ]
  },
  {
   "cell_type": "markdown",
   "id": "f7e190f0-fbd3-4313-8729-c155f3f53e6e",
   "metadata": {},
   "source": [
    "Abstraction is one of the four pillars of object-oriented programming (OOP). It is the process of simplifying complex systems by representing only the essential features while hiding the unnecessary details. In other words, abstraction allows you to focus on what an object does rather than how it does it. It provides a high-level view of an object, making it easier to understand and use, without worrying about the internal implementation."
   ]
  },
  {
   "cell_type": "code",
   "execution_count": 1,
   "id": "52dda586-7bba-4043-88f5-85f0767070f1",
   "metadata": {},
   "outputs": [
    {
     "name": "stdout",
     "output_type": "stream",
     "text": [
      "Area of the Circle: 78.5\n",
      "Area of the Square: 16\n"
     ]
    }
   ],
   "source": [
    "from abc import ABC, abstractmethod\n",
    "\n",
    "# Abstract class representing a Shape\n",
    "class Shape(ABC):\n",
    "    @abstractmethod\n",
    "    def area(self):\n",
    "        pass\n",
    "\n",
    "# Concrete class representing a Circle\n",
    "class Circle(Shape):\n",
    "    def __init__(self, radius):\n",
    "        self.radius = radius\n",
    "\n",
    "    def area(self):\n",
    "        return 3.14 * self.radius * self.radius\n",
    "\n",
    "# Concrete class representing a Square\n",
    "class Square(Shape):\n",
    "    def __init__(self, side):\n",
    "        self.side = side\n",
    "\n",
    "    def area(self):\n",
    "        return self.side * self.side\n",
    "\n",
    "# Creating objects of the Circle and Square classes\n",
    "circle = Circle(5)\n",
    "square = Square(4)\n",
    "\n",
    "# Calling the area() method without worrying about the implementation details\n",
    "print(\"Area of the Circle:\", circle.area())  # Output: Area of the Circle: 78.5\n",
    "print(\"Area of the Square:\", square.area())  # Output: Area of the Square: 16\n"
   ]
  },
  {
   "cell_type": "markdown",
   "id": "c6cdec6a-35c7-4d7c-852f-63e2424a8654",
   "metadata": {},
   "source": [
    "Q3. What is abc module in python? Why is it used?"
   ]
  },
  {
   "cell_type": "markdown",
   "id": "603550b4-1948-452d-a600-d4846dd5602b",
   "metadata": {},
   "source": [
    "In Python, the abc module stands for \"Abstract Base Classes.\" It is a built-in module that provides a mechanism to define abstract classes and abstract methods. Abstract classes are classes that cannot be instantiated directly but serve as a blueprint for other classes that inherit from them.\n",
    "\n",
    "The main purpose of the abc module is to support abstraction and create a contract for classes that implement specific methods or behaviors. This helps ensure that subclasses adhere to a certain interface, making it easier to manage and enforce common functionality across related classes.\n",
    "\n",
    "The abc module provides the ABC (Abstract Base Class) meta-class, which allows you to define abstract methods and properties within a class using decorators. Abstract methods are methods that must be implemented by any concrete subclass, while abstract properties are properties that must be defined in any subclass."
   ]
  },
  {
   "cell_type": "markdown",
   "id": "f03549f3-143a-43b3-aaba-beef2bc4e17b",
   "metadata": {},
   "source": [
    "Q4. How can we achieve data abstraction?"
   ]
  },
  {
   "cell_type": "markdown",
   "id": "4815aebb-d5d9-4766-bbed-8dc2f477e3f5",
   "metadata": {},
   "source": [
    "Data abstraction in programming refers to the concept of hiding the implementation details of data and only exposing the essential features or interfaces to the outside world. This way, the users of the data can interact with it using a simplified and consistent interface without needing to know how the data is structured internally.\n",
    "\n",
    "In Python, you can achieve data abstraction using various techniques, and one of the key methods is through the use of classes and objects. Here's how you can do it:\n",
    "\n",
    "Classes and Encapsulation:\n",
    "Create a class that represents the abstract data type you want to implement.\n",
    "Define attributes (data members) that store the data within the class.\n",
    "Provide methods (functions) to manipulate and interact with the data.\n",
    "Hide the implementation details of the class by making certain attributes and methods private (using underscores) or using property getters and setters."
   ]
  },
  {
   "cell_type": "markdown",
   "id": "be2c6de4-c0e8-4e59-a63b-6aecfb6c2c6a",
   "metadata": {},
   "source": [
    "Q5. Can we create an instance of an abstract class? Explain your answer."
   ]
  },
  {
   "cell_type": "markdown",
   "id": "e795dd23-52e4-4e58-9046-d8438b7865af",
   "metadata": {},
   "source": [
    "\n",
    "No, you cannot create an instance of an abstract class in Python. Abstract classes are designed to serve as blueprints or templates for other classes to inherit from, but they cannot be instantiated directly."
   ]
  },
  {
   "cell_type": "code",
   "execution_count": null,
   "id": "f7d1b520-db8a-4a57-818b-a4731909d8fb",
   "metadata": {},
   "outputs": [],
   "source": []
  }
 ],
 "metadata": {
  "kernelspec": {
   "display_name": "Python 3 (ipykernel)",
   "language": "python",
   "name": "python3"
  },
  "language_info": {
   "codemirror_mode": {
    "name": "ipython",
    "version": 3
   },
   "file_extension": ".py",
   "mimetype": "text/x-python",
   "name": "python",
   "nbconvert_exporter": "python",
   "pygments_lexer": "ipython3",
   "version": "3.10.8"
  }
 },
 "nbformat": 4,
 "nbformat_minor": 5
}
