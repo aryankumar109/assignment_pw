{
 "cells": [
  {
   "cell_type": "code",
   "execution_count": 4,
   "id": "644dc86a-a593-43a5-ac06-60bb65a34bb6",
   "metadata": {},
   "outputs": [],
   "source": [
    "#Consider following code to answer further questions:\n",
    "import pandas as pd\n",
    "course_name = [\"Data Science\", \"Machine Learning\", \"Big Data\", \"Data Engineer\"]\n",
    "duration = [2,3,6,4]\n",
    "df = pd.DataFrame(data = {\"course_name\" : course_name, \"duration\" : duration})"
   ]
  },
  {
   "cell_type": "code",
   "execution_count": 13,
   "id": "0b871a68-b99a-4b10-b5dd-7774aa46ed1e",
   "metadata": {},
   "outputs": [
    {
     "data": {
      "text/html": [
       "<div>\n",
       "<style scoped>\n",
       "    .dataframe tbody tr th:only-of-type {\n",
       "        vertical-align: middle;\n",
       "    }\n",
       "\n",
       "    .dataframe tbody tr th {\n",
       "        vertical-align: top;\n",
       "    }\n",
       "\n",
       "    .dataframe thead th {\n",
       "        text-align: right;\n",
       "    }\n",
       "</style>\n",
       "<table border=\"1\" class=\"dataframe\">\n",
       "  <thead>\n",
       "    <tr style=\"text-align: right;\">\n",
       "      <th></th>\n",
       "      <th>course_name</th>\n",
       "      <th>duration</th>\n",
       "    </tr>\n",
       "  </thead>\n",
       "  <tbody>\n",
       "    <tr>\n",
       "      <th>0</th>\n",
       "      <td>Data Science</td>\n",
       "      <td>2</td>\n",
       "    </tr>\n",
       "    <tr>\n",
       "      <th>1</th>\n",
       "      <td>Machine Learning</td>\n",
       "      <td>3</td>\n",
       "    </tr>\n",
       "    <tr>\n",
       "      <th>2</th>\n",
       "      <td>Big Data</td>\n",
       "      <td>6</td>\n",
       "    </tr>\n",
       "    <tr>\n",
       "      <th>3</th>\n",
       "      <td>Data Engineer</td>\n",
       "      <td>4</td>\n",
       "    </tr>\n",
       "  </tbody>\n",
       "</table>\n",
       "</div>"
      ],
      "text/plain": [
       "        course_name  duration\n",
       "0      Data Science         2\n",
       "1  Machine Learning         3\n",
       "2          Big Data         6\n",
       "3     Data Engineer         4"
      ]
     },
     "execution_count": 13,
     "metadata": {},
     "output_type": "execute_result"
    }
   ],
   "source": [
    "df"
   ]
  },
  {
   "cell_type": "raw",
   "id": "d038a1d0-c441-407d-b12d-285c711666db",
   "metadata": {},
   "source": [
    "Q1. Write a code to print the data present in the second row of the dataframe, df."
   ]
  },
  {
   "cell_type": "code",
   "execution_count": 10,
   "id": "e5a6094e-fe22-4707-ae38-b706bff23a5c",
   "metadata": {},
   "outputs": [
    {
     "data": {
      "text/plain": [
       "<bound method IndexOpsMixin.transpose of course_name    Machine Learning\n",
       "duration                      3\n",
       "Name: 1, dtype: object>"
      ]
     },
     "execution_count": 10,
     "metadata": {},
     "output_type": "execute_result"
    }
   ],
   "source": [
    "df.iloc[1].transpose"
   ]
  },
  {
   "cell_type": "raw",
   "id": "fa4b99ae-6663-40ad-9884-9ae65c2b13f4",
   "metadata": {},
   "source": [
    "Q2. What is the difference between the functions loc and iloc in pandas.DataFrame?"
   ]
  },
  {
   "cell_type": "markdown",
   "id": "1b8632cc-d5f3-4ad1-a536-2f05a11b81a8",
   "metadata": {},
   "source": [
    "\n",
    "In pandas, loc and iloc are both used for selecting data from a DataFrame, but they have different ways of indexing and selecting data:\n",
    "\n",
    "loc:\n",
    "loc is primarily label-based indexing. It allows you to select data from a DataFrame using labels (row and column names).\n",
    "When using loc, you specify the row and column labels explicitly. You can use labels to select both rows and columns.\n",
    "It includes the endpoint when slicing with labels, which means that the final label specified is included in the selection.\n",
    "Example: df.loc[0, 'course_name'] selects the value at the first row and the 'course_name' column.\n",
    "\n",
    "\n",
    "iloc:\n",
    "iloc is integer-based indexing. It allows you to select data from a DataFrame using integer positions (row and column indices).\n",
    "When using iloc, you specify the row and column indices explicitly. You can use integer indices to select both rows and columns.\n",
    "It does not include the endpoint when slicing with integer positions, similar to Python's regular slicing. The final index specified is excluded from the selection.\n",
    "Example: df.iloc[0, 0] selects the value at the first row and the first column."
   ]
  },
  {
   "cell_type": "raw",
   "id": "ea49d803-74a2-450d-a54c-a9ef0357a5d0",
   "metadata": {},
   "source": [
    "Q3. Reindex the given dataframe using a variable, reindex = [3,0,1,2] and store it in the variable, new_df\n",
    "then find the output for both new_df.loc[2] and new_df.iloc[2]."
   ]
  },
  {
   "cell_type": "code",
   "execution_count": 15,
   "id": "87ab376b-dc8f-4ce4-b2a1-35506099abc3",
   "metadata": {},
   "outputs": [
    {
     "data": {
      "text/html": [
       "<div>\n",
       "<style scoped>\n",
       "    .dataframe tbody tr th:only-of-type {\n",
       "        vertical-align: middle;\n",
       "    }\n",
       "\n",
       "    .dataframe tbody tr th {\n",
       "        vertical-align: top;\n",
       "    }\n",
       "\n",
       "    .dataframe thead th {\n",
       "        text-align: right;\n",
       "    }\n",
       "</style>\n",
       "<table border=\"1\" class=\"dataframe\">\n",
       "  <thead>\n",
       "    <tr style=\"text-align: right;\">\n",
       "      <th></th>\n",
       "      <th>course_name</th>\n",
       "      <th>duration</th>\n",
       "    </tr>\n",
       "  </thead>\n",
       "  <tbody>\n",
       "    <tr>\n",
       "      <th>3</th>\n",
       "      <td>Data Engineer</td>\n",
       "      <td>4</td>\n",
       "    </tr>\n",
       "    <tr>\n",
       "      <th>0</th>\n",
       "      <td>Data Science</td>\n",
       "      <td>2</td>\n",
       "    </tr>\n",
       "    <tr>\n",
       "      <th>1</th>\n",
       "      <td>Machine Learning</td>\n",
       "      <td>3</td>\n",
       "    </tr>\n",
       "    <tr>\n",
       "      <th>2</th>\n",
       "      <td>Big Data</td>\n",
       "      <td>6</td>\n",
       "    </tr>\n",
       "  </tbody>\n",
       "</table>\n",
       "</div>"
      ],
      "text/plain": [
       "        course_name  duration\n",
       "3     Data Engineer         4\n",
       "0      Data Science         2\n",
       "1  Machine Learning         3\n",
       "2          Big Data         6"
      ]
     },
     "execution_count": 15,
     "metadata": {},
     "output_type": "execute_result"
    }
   ],
   "source": [
    "reindex = [3, 0, 1, 2]\n",
    "new_df = df.reindex(reindex)\n",
    "new_df\n"
   ]
  },
  {
   "cell_type": "code",
   "execution_count": 16,
   "id": "5bdcb0e9-5ce3-475b-b945-5243c74889c8",
   "metadata": {},
   "outputs": [
    {
     "data": {
      "text/plain": [
       "course_name    Big Data\n",
       "duration              6\n",
       "Name: 2, dtype: object"
      ]
     },
     "execution_count": 16,
     "metadata": {},
     "output_type": "execute_result"
    }
   ],
   "source": [
    "n=new_df.loc[2]\n",
    "n"
   ]
  },
  {
   "cell_type": "code",
   "execution_count": 18,
   "id": "32c26a3f-e88d-45e0-aa45-495e50b93e8c",
   "metadata": {},
   "outputs": [
    {
     "data": {
      "text/plain": [
       "course_name    Machine Learning\n",
       "duration                      3\n",
       "Name: 1, dtype: object"
      ]
     },
     "execution_count": 18,
     "metadata": {},
     "output_type": "execute_result"
    }
   ],
   "source": [
    "ab=new_df.iloc[2]\n",
    "ab"
   ]
  },
  {
   "cell_type": "raw",
   "id": "32502bcc-26b0-473c-b8ff-20f65b8ca131",
   "metadata": {},
   "source": [
    "Did you observe any difference in both the outputs? If so then explain it."
   ]
  },
  {
   "cell_type": "markdown",
   "id": "d0547904-1b40-4656-93fe-00783fd9faff",
   "metadata": {},
   "source": [
    "in iloc previous index is preserved but in loc no previous index is preserved  ."
   ]
  },
  {
   "cell_type": "code",
   "execution_count": 1,
   "id": "5863e905-2103-40b1-bb31-01781a65c008",
   "metadata": {},
   "outputs": [],
   "source": [
    "#Consider the below code to answer further questions:\n",
    "import pandas as pd\n",
    "import numpy as np\n",
    "columns = ['column_1', 'column_2', 'column_3', 'column_4', 'column_5', 'column_6']\n",
    "indices = [1,2,3,4,5,6]\n",
    "#Creating a dataframe:\n",
    "df1 = pd.DataFrame(np.random.rand(6,6), columns = columns, index = indices)"
   ]
  },
  {
   "cell_type": "raw",
   "id": "ca494706-5f1d-4468-b72d-e8d0117d1f83",
   "metadata": {},
   "source": [
    "Q4. Write a code to find the following statistical measurements for the above dataframe df1:\n",
    "(i) mean of each and every column present in the dataframe."
   ]
  },
  {
   "cell_type": "code",
   "execution_count": 2,
   "id": "3f959708-5378-47e7-a1dc-f0757df7ef20",
   "metadata": {},
   "outputs": [
    {
     "name": "stdout",
     "output_type": "stream",
     "text": [
      "column_1    0.421731\n",
      "column_2    0.382146\n",
      "column_3    0.507447\n",
      "column_4    0.385307\n",
      "column_5    0.580874\n",
      "column_6    0.494408\n",
      "dtype: float64\n"
     ]
    }
   ],
   "source": [
    "column_means = df1.mean()\n",
    "print(column_means)\n"
   ]
  },
  {
   "cell_type": "raw",
   "id": "88e1c6d7-56fb-4945-8b40-e307cca850cd",
   "metadata": {},
   "source": [
    "(ii) standard deviation of column, ‘column_2’"
   ]
  },
  {
   "cell_type": "code",
   "execution_count": 3,
   "id": "8deeeb7a-617a-4d6f-93bf-9186b3cb96ff",
   "metadata": {},
   "outputs": [
    {
     "name": "stdout",
     "output_type": "stream",
     "text": [
      "0.2521685748540114\n"
     ]
    }
   ],
   "source": [
    "column_2_std = df1['column_2'].std()\n",
    "print(column_2_std)\n"
   ]
  },
  {
   "cell_type": "markdown",
   "id": "6fa867f2-7407-4881-af68-37a8c7e1c598",
   "metadata": {},
   "source": [
    "Q5. Replace the data present in the second row of column, ‘column_2’ by a string variable then find the\n",
    "mean of column, column_2.\n",
    "If you are getting errors in executing it then explain why.\n",
    "[Hint: To replace the data use df1.loc[] and equate this to string data of your choice.]"
   ]
  },
  {
   "cell_type": "code",
   "execution_count": 4,
   "id": "a8cf85a8-2a07-4425-aab7-01f6b8ef7601",
   "metadata": {},
   "outputs": [
    {
     "name": "stdout",
     "output_type": "stream",
     "text": [
      "Error: unsupported operand type(s) for +: 'float' and 'str'\n"
     ]
    }
   ],
   "source": [
    "# Replace the data in the second row of 'column_2' with a string\n",
    "df1.loc[2, 'column_2'] = 'string_data'\n",
    "\n",
    "# Try to calculate the mean of 'column_2'\n",
    "try:\n",
    "    column_2_mean = df1['column_2'].mean()\n",
    "    print(column_2_mean)\n",
    "except Exception as e:\n",
    "    print(f\"Error: {e}\")\n"
   ]
  },
  {
   "cell_type": "markdown",
   "id": "9b966186-8dc6-4be2-a0de-549c61bc642c",
   "metadata": {},
   "source": [
    "This error occurs because the 'column_2' now contains non-numeric data ('string_data'), and pandas cannot calculate the mean of non-numeric values in a numeric column."
   ]
  },
  {
   "cell_type": "raw",
   "id": "7ab47f50-cdfb-4579-bdb6-2caabbdbca3d",
   "metadata": {},
   "source": [
    "Q6. What do you understand about the windows function in pandas and list the types of windows\n",
    "functions?"
   ]
  },
  {
   "cell_type": "raw",
   "id": "6e73ec34-812f-422f-b3d6-bacf649784a7",
   "metadata": {},
   "source": [
    "In pandas, a window function (also known as a rolling or moving window function) is a powerful tool for performing calculations on a subset of data points within a specified window or moving interval. These functions are commonly used in time-series data analysis, but they can be applied to various types of data. Window functions allow you to perform calculations over a sliding window of data, which can be useful for tasks like computing moving averages, cumulative sums, or other aggregations.\n",
    "\n",
    "There are several types of window functions in pandas:\n",
    "\n",
    "1. Rolling Functions\n",
    " rolling(): This function is used to create a Rolling object, which can be used to apply various rolling window operations like mean, sum, std, etc.\n",
    "\n",
    "   Example\n",
    "\n",
    "   df['rolling_mean'] = df['column'].rolling(window=3).mean()\n",
    "   \n",
    "2. Expanding Functions:\n",
    "   expanding(`: This function is used to create an Expanding object, which calculates a statistic for all data points in the window from the start of the data up to the current point.\n",
    "\n",
    "   Example:\n",
    "   \n",
    "   df['expanding_sum'] = df['column'].expanding().sum()\n",
    "  \n",
    "\n",
    "3. Exponentially Weighted Moving Averages (EWMA):\n",
    "   ewm(): This function is used for exponentially weighted moving average calculations. It assigns different weights to different data points, giving more importance to recent data.\n",
    "\n",
    "   Example:\n",
    " \n",
    "   df['ewma'] = df['column'].ewm(span=10, adjust=False).mean()\n",
    "\n",
    "\n",
    "4. Window Functions with Custom Functions\n",
    "   - You can also apply custom functions using the `apply()` method along with the window functions.\n",
    "\n",
    "   Example:\n",
    "  python\n",
    "   def custom_function(window_data):\n",
    "       # Your custom logic here\n",
    "       return result\n",
    "\n",
    "   df['custom_window'] = df['column'].rolling(window=3).apply(custom_function)\n",
    "\n",
    "\n",
    "These window functions provide flexibility in performing complex calculations and analyses on rolling or expanding subsets of your data, making them valuable tools in time-series analysis and data manipulation with pandas."
   ]
  },
  {
   "cell_type": "markdown",
   "id": "63b92f64-70d3-4ed2-b899-7c69026fe34b",
   "metadata": {},
   "source": [
    "Q7. Write a code to print only the current month and year at the time of answering this question.\n",
    "[Hint: Use pandas.datetime function]"
   ]
  },
  {
   "cell_type": "code",
   "execution_count": 5,
   "id": "e81e1519-d197-471e-aa08-f35d89e37a84",
   "metadata": {},
   "outputs": [
    {
     "name": "stdout",
     "output_type": "stream",
     "text": [
      "Current Month: 9\n",
      "Current Year: 2023\n"
     ]
    }
   ],
   "source": [
    "import pandas as pd\n",
    "from datetime import datetime\n",
    "\n",
    "# Get the current date and time\n",
    "current_datetime = datetime.now()\n",
    "\n",
    "# Extract the current month and year\n",
    "current_month = current_datetime.month\n",
    "current_year = current_datetime.year\n",
    "\n",
    "# Print the current month and year\n",
    "print(f\"Current Month: {current_month}\")\n",
    "print(f\"Current Year: {current_year}\")\n"
   ]
  },
  {
   "cell_type": "raw",
   "id": "4307174b-ea37-42c7-92e5-c16a0f148d61",
   "metadata": {},
   "source": [
    "Q8. Write a Python program that takes in two dates as input (in the format YYYY-MM-DD) and\n",
    "calculates the difference between them in days, hours, and minutes using Pandas time delta. The\n",
    "program should prompt the user to enter the dates and display the result."
   ]
  },
  {
   "cell_type": "code",
   "execution_count": 6,
   "id": "4c06b9d8-5017-4f85-967d-abb846198c28",
   "metadata": {},
   "outputs": [
    {
     "name": "stdin",
     "output_type": "stream",
     "text": [
      "Enter the first date (YYYY-MM-DD):  2005-09-06\n",
      "Enter the second date (YYYY-MM-DD):  2023-09-08\n"
     ]
    },
    {
     "name": "stdout",
     "output_type": "stream",
     "text": [
      "Time Difference: 6576 days, 0 hours, 0 minutes\n"
     ]
    }
   ],
   "source": [
    "import pandas as pd\n",
    "\n",
    "# Function to calculate the difference between two dates\n",
    "def calculate_time_difference():\n",
    "    # Prompt the user to enter the first date\n",
    "    date1_str = input(\"Enter the first date (YYYY-MM-DD): \")\n",
    "    \n",
    "    # Prompt the user to enter the second date\n",
    "    date2_str = input(\"Enter the second date (YYYY-MM-DD): \")\n",
    "\n",
    "    try:\n",
    "        # Convert the input strings to Pandas datetime objects\n",
    "        date1 = pd.to_datetime(date1_str)\n",
    "        date2 = pd.to_datetime(date2_str)\n",
    "\n",
    "        # Calculate the time difference\n",
    "        time_difference = date2 - date1\n",
    "\n",
    "        # Extract days, hours, and minutes from the time difference\n",
    "        days = time_difference.days\n",
    "        hours, remainder = divmod(time_difference.seconds, 3600)\n",
    "        minutes, _ = divmod(remainder, 60)\n",
    "\n",
    "        # Display the result\n",
    "        print(f\"Time Difference: {days} days, {hours} hours, {minutes} minutes\")\n",
    "\n",
    "    except ValueError:\n",
    "        print(\"Invalid date format. Please use the format YYYY-MM-DD.\")\n",
    "\n",
    "# Call the function to calculate the time difference\n",
    "calculate_time_difference()\n"
   ]
  },
  {
   "cell_type": "raw",
   "id": "f9d2d29a-2191-4a81-81cc-0760489f7154",
   "metadata": {},
   "source": [
    "Q9. Write a Python program that reads a CSV file containing categorical data and converts a specified\n",
    "column to a categorical data type. The program should prompt the user to enter the file path, column\n",
    "name, and category order, and then display the sorted data."
   ]
  },
  {
   "cell_type": "code",
   "execution_count": 8,
   "id": "c3a06439-3f60-4cad-a52a-d404d7656c1c",
   "metadata": {},
   "outputs": [
    {
     "name": "stdin",
     "output_type": "stream",
     "text": [
      "Enter the CSV file path:  landslide_data_original.csv\n"
     ]
    },
    {
     "name": "stdout",
     "output_type": "stream",
     "text": [
      "Columns in the CSV file:\n",
      "Index(['dates', 'stationid', 'temperature', 'humidity', 'pressure', 'rain',\n",
      "       'lightavg', 'lightmax', 'moisture'],\n",
      "      dtype='object')\n"
     ]
    },
    {
     "name": "stdin",
     "output_type": "stream",
     "text": [
      "Enter the column name to convert to categorical:  'temperature'\n",
      "Enter the category order (comma-separated, e.g., cat1,cat2,cat3):  comma-separated\n"
     ]
    },
    {
     "name": "stdout",
     "output_type": "stream",
     "text": [
      "Column not found in the CSV file.\n"
     ]
    }
   ],
   "source": [
    "import pandas as pd\n",
    "\n",
    "# Function to read CSV file, convert column to categorical, and display sorted data\n",
    "def process_csv_file():\n",
    "    # Prompt the user to enter the file path\n",
    "    file_path = input(\"Enter the CSV file path: \")\n",
    "\n",
    "    try:\n",
    "        # Read the CSV file into a DataFrame\n",
    "        df = pd.read_csv(file_path)\n",
    "\n",
    "        # Display the columns in the CSV file\n",
    "        print(\"Columns in the CSV file:\")\n",
    "        print(df.columns)\n",
    "\n",
    "        # Prompt the user to enter the column name to convert to categorical\n",
    "        column_name = input(\"Enter the column name to convert to categorical: \")\n",
    "\n",
    "        # Prompt the user to enter the category order (comma-separated)\n",
    "        category_order = input(\"Enter the category order (comma-separated, e.g., cat1,cat2,cat3): \")\n",
    "        category_order = [category.strip() for category in category_order.split(',')]\n",
    "\n",
    "        # Convert the specified column to categorical with the specified category order\n",
    "        df[column_name] = pd.Categorical(df[column_name], categories=category_order, ordered=True)\n",
    "\n",
    "        # Sort the DataFrame by the categorical column\n",
    "        sorted_df = df.sort_values(by=column_name)\n",
    "\n",
    "        # Display the sorted data\n",
    "        print(\"Sorted Data:\")\n",
    "        print(sorted_df)\n",
    "\n",
    "    except FileNotFoundError:\n",
    "        print(\"File not found. Please provide a valid file path.\")\n",
    "    except KeyError:\n",
    "        print(\"Column not found in the CSV file.\")\n",
    "    except Exception as e:\n",
    "        print(f\"An error occurred: {str(e)}\")\n",
    "\n",
    "# Call the function to process the CSV file\n",
    "process_csv_file()\n",
    "\n"
   ]
  },
  {
   "cell_type": "raw",
   "id": "124e648a-cbf1-4215-abf8-52231eccf93b",
   "metadata": {},
   "source": [
    "Q10. Write a Python program that reads a CSV file containing sales data for different products and\n",
    "visualizes the data using a stacked bar chart to show the sales of each product category over time. The\n",
    "program should prompt the user to enter the file path and display the chart."
   ]
  },
  {
   "cell_type": "code",
   "execution_count": null,
   "id": "bf865428-6c26-4b63-9f2b-9da7515712fc",
   "metadata": {},
   "outputs": [],
   "source": []
  },
  {
   "cell_type": "code",
   "execution_count": null,
   "id": "0fb257ad-a81e-4add-ae47-0f914329c20f",
   "metadata": {},
   "outputs": [],
   "source": []
  }
 ],
 "metadata": {
  "kernelspec": {
   "display_name": "Python 3 (ipykernel)",
   "language": "python",
   "name": "python3"
  },
  "language_info": {
   "codemirror_mode": {
    "name": "ipython",
    "version": 3
   },
   "file_extension": ".py",
   "mimetype": "text/x-python",
   "name": "python",
   "nbconvert_exporter": "python",
   "pygments_lexer": "ipython3",
   "version": "3.10.8"
  }
 },
 "nbformat": 4,
 "nbformat_minor": 5
}
