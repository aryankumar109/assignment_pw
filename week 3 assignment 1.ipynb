{
 "cells": [
  {
   "cell_type": "markdown",
   "id": "d4c1198b-7be6-4e99-91f7-003d9078b7a1",
   "metadata": {},
   "source": [
    "Q1. Which keyword is used to create a function? Create a function to return a list of odd numbers in the\n",
    "range of 1 to 25."
   ]
  },
  {
   "cell_type": "code",
   "execution_count": 4,
   "id": "aa55a672-431d-4881-b988-87f5789c7b80",
   "metadata": {},
   "outputs": [
    {
     "data": {
      "text/plain": [
       "[1, 3, 5, 7, 9, 11, 13, 15, 17, 19, 21, 23, 25]"
      ]
     },
     "execution_count": 4,
     "metadata": {},
     "output_type": "execute_result"
    }
   ],
   "source": [
    "#In most programming languages, the keyword used to create a function is typically \"def\" (short for define).\n",
    "l1=[]\n",
    "for i in range (1,26):\n",
    "    l1.append(i)\n",
    "def oddnumber(list):\n",
    "    l2=[]\n",
    "    for i in range (1,26):\n",
    "        if i%2==1:\n",
    "            l2.append(i)\n",
    "    return l2\n",
    "a=oddnumber(l1)\n",
    "a"
   ]
  },
  {
   "cell_type": "markdown",
   "id": "48ef219d-de71-47ac-a8f2-c259c0dcb634",
   "metadata": {},
   "source": [
    "Q2. Why *args and **kwargs is used in some functions? Create a function each for *args and **kwargs to demonstrate their use."
   ]
  },
  {
   "cell_type": "code",
   "execution_count": 6,
   "id": "037b8e5f-d23d-4d43-a286-043271f4bbd3",
   "metadata": {},
   "outputs": [
    {
     "name": "stdout",
     "output_type": "stream",
     "text": [
      "10\n",
      "100\n",
      "12\n",
      "name: John\n",
      "age: 30\n",
      "city: New York\n",
      "item: Phone\n",
      "price: 500\n",
      "brand: Samsung\n",
      "color: Black\n"
     ]
    }
   ],
   "source": [
    "#*args and **kwargs are used in Python functions to allow them to accept a variable number of arguments.\n",
    "#They are useful when you want to pass an arbitrary number of positional or keyword arguments to a function \n",
    "#without having to explicitly define all the arguments in the function signature.\n",
    "\n",
    "def sum_all(*args):\n",
    "    result = 0\n",
    "    for num in args:\n",
    "        result += num\n",
    "    return result\n",
    "print(sum_all(1, 2, 3, 4))       \n",
    "print(sum_all(10, 20, 30, 40))  \n",
    "print(sum_all(2, 4, 6))          \n",
    "\n",
    "\n",
    "def print_kwargs(**kwargs):\n",
    "    for key, value in kwargs.items():\n",
    "        print(f\"{key}: {value}\")\n",
    "print_kwargs(name=\"John\", age=30, city=\"New York\")\n",
    "print_kwargs(item=\"Phone\", price=500, brand=\"Samsung\", color=\"Black\")"
   ]
  },
  {
   "cell_type": "markdown",
   "id": "cac223cf-2818-48ad-9790-6df95c7427dd",
   "metadata": {},
   "source": [
    "Q3. What is an iterator in python? Name the method used to initialise the iterator object and the method\n",
    "used for iteration. Use these methods to print the first five elements of the given list [2, 4, 6, 8, 10, 12, 14,\n",
    "16, 18, 20].  "
   ]
  },
  {
   "cell_type": "code",
   "execution_count": 10,
   "id": "6ccfca5d-04c0-4140-ab14-d9fd6ec9145f",
   "metadata": {},
   "outputs": [
    {
     "name": "stdout",
     "output_type": "stream",
     "text": [
      "2\n",
      "4\n",
      "6\n",
      "8\n",
      "10\n"
     ]
    }
   ],
   "source": [
    "#In Python, an iterator is an object that allows sequential access to elements in a container (like a list) without exposing\n",
    "#The underlying representation of the container. It provides two main methods: __iter__() and __next__().\n",
    "\n",
    "\n",
    "class ListIterator:\n",
    "    def __init__(self, data_list):\n",
    "        self.data_list = data_list\n",
    "        self.index = 0\n",
    "\n",
    "    def __iter__(self):\n",
    "        return self\n",
    "\n",
    "    def __next__(self):\n",
    "        if self.index < len(self.data_list):\n",
    "            value = self.data_list[self.index]\n",
    "            self.index += 1\n",
    "            return value\n",
    "        else:\n",
    "            raise StopIteration\n",
    "# Create the iterator object\n",
    "my_list = [2, 4, 6, 8, 10, 12, 14, 16, 18, 20]\n",
    "iterator = ListIterator(my_list)\n",
    "# Iterate and print the first five elements\n",
    "for _ in range(5):\n",
    "    print(next(iterator))\n"
   ]
  },
  {
   "cell_type": "markdown",
   "id": "c23e6398-e885-4cf1-9c66-94fbbdee24d3",
   "metadata": {},
   "source": [
    "Q4. What is a generator function in python? Why yield keyword is used? Give an example of a generator\n",
    "function."
   ]
  },
  {
   "cell_type": "code",
   "execution_count": 2,
   "id": "896b0039-7681-444e-927c-6ac9f4dcc65f",
   "metadata": {},
   "outputs": [
    {
     "name": "stdout",
     "output_type": "stream",
     "text": [
      "0\n",
      "1\n",
      "2\n",
      "3\n",
      "4\n"
     ]
    }
   ],
   "source": [
    "# In Python, a generator function is a special type of function that generates a sequence of values, allowing you to \n",
    "# iterate over them one at a time. Unlike regular functions that use the \"return\" keyword to return a value and terminate\n",
    "# the function, generator functions use the \"yield\" keyword to return a value and pause the function's execution temporarily.\n",
    "# When the generator \n",
    "# function is called again, it resumes from where it left off, retaining its internal state.\n",
    "\n",
    "# The \"yield\" keyword is used to produce a value in a generator function. When the generator function is called,\n",
    "# it executes until it reaches the \"yield\" statement, at which point it returns the value specified after \"yield\"\n",
    "# and pauses its execution. The generator's internal state is saved at this point, allowing you to continue the function's \n",
    "# execution later when you call it again.\n",
    "\n",
    "def number_generator(n):\n",
    "    i = 0\n",
    "    while i < n:\n",
    "        yield i\n",
    "        i += 1\n",
    "\n",
    "# Using the generator function to generate numbers\n",
    "generator = number_generator(5)\n",
    "\n",
    "# When calling next() on the generator, it will produce values one by one\n",
    "print(next(generator))  # Output: 0\n",
    "print(next(generator))  # Output: 1\n",
    "print(next(generator))  # Output: 2\n",
    "print(next(generator))  # Output: 3\n",
    "print(next(generator))  # Output: 4\n",
    "\n",
    "# If we try to call next() again, it will raise a StopIteration error\n",
    "# as the generator has exhausted all its values\n",
    "# print(next(generator))  # Raises StopIteration error\n"
   ]
  },
  {
   "cell_type": "markdown",
   "id": "8e4eb485-f1d8-415a-b14c-17bc7f63a629",
   "metadata": {},
   "source": [
    "Q5. Create a generator function for prime numbers less than 1000. Use the next() method to print the\n",
    "first 20 prime numbers."
   ]
  },
  {
   "cell_type": "code",
   "execution_count": 3,
   "id": "93b5b3bb-c97e-4ce6-950c-da391a59a4c6",
   "metadata": {},
   "outputs": [
    {
     "name": "stdout",
     "output_type": "stream",
     "text": [
      "2\n",
      "3\n",
      "5\n",
      "7\n",
      "11\n",
      "13\n",
      "17\n",
      "19\n",
      "23\n",
      "29\n",
      "31\n",
      "37\n",
      "41\n",
      "43\n",
      "47\n",
      "53\n",
      "59\n",
      "61\n",
      "67\n",
      "71\n"
     ]
    }
   ],
   "source": [
    "def is_prime(num):\n",
    "    if num < 2:\n",
    "        return False\n",
    "    for i in range(2, int(num**0.5) + 1):\n",
    "        if num % i == 0:\n",
    "            return False\n",
    "    return True\n",
    "\n",
    "def prime_generator():\n",
    "    num = 2\n",
    "    while num < 1000:\n",
    "        if is_prime(num):\n",
    "            yield num\n",
    "        num += 1\n",
    "\n",
    "# Creating the generator object\n",
    "prime_gen = prime_generator()\n",
    "\n",
    "# Using next() to print the first 20 prime numbers\n",
    "for _ in range(20):\n",
    "    print(next(prime_gen))\n"
   ]
  },
  {
   "cell_type": "markdown",
   "id": "93b9c7a8-76f6-4ed6-b0a5-ee99ba065a1d",
   "metadata": {},
   "source": [
    "Q6. Write a python program to print the first 10 Fibonacci numbers using a while loop."
   ]
  },
  {
   "cell_type": "code",
   "execution_count": 4,
   "id": "fd876071-addf-4c62-985c-946c684db494",
   "metadata": {},
   "outputs": [
    {
     "name": "stdout",
     "output_type": "stream",
     "text": [
      "0\n",
      "1\n",
      "1\n",
      "2\n",
      "3\n",
      "5\n",
      "8\n",
      "13\n",
      "21\n",
      "34\n"
     ]
    }
   ],
   "source": [
    "def fibonacci_generator():\n",
    "    a, b = 0, 1\n",
    "    count = 0\n",
    "\n",
    "    while count < 10:\n",
    "        yield a\n",
    "        a, b = b, a + b\n",
    "        count += 1\n",
    "\n",
    "# Creating the generator object\n",
    "fib_gen = fibonacci_generator()\n",
    "\n",
    "# Using the generator to print the first 10 Fibonacci numbers\n",
    "for _ in range(10):\n",
    "    print(next(fib_gen))\n"
   ]
  },
  {
   "cell_type": "markdown",
   "id": "8e1d8033-ebdc-4ed7-b237-4463bd964754",
   "metadata": {},
   "source": [
    "Q7. Write a List Comprehension to iterate through the given string: ‘pwskills’.\n",
    "Expected output: ['p', 'w', 's', 'k', 'i', 'l', 'l', 's']"
   ]
  },
  {
   "cell_type": "code",
   "execution_count": 7,
   "id": "68938761-9b9e-4ce3-83c8-cd4ed5923eb0",
   "metadata": {},
   "outputs": [
    {
     "data": {
      "text/plain": [
       "['p', 'w', 's', 'k', 'i', 'l', 'l', 's']"
      ]
     },
     "execution_count": 7,
     "metadata": {},
     "output_type": "execute_result"
    }
   ],
   "source": [
    "s=\"pwskills\"\n",
    "s=list(map(lambda s:s,s))\n",
    "s"
   ]
  },
  {
   "cell_type": "markdown",
   "id": "d9c9b8e7-f722-4009-b698-50021a5c04c6",
   "metadata": {},
   "source": [
    "Q8. Write a python program to check whether a given number is Palindrome or not using a while loop."
   ]
  },
  {
   "cell_type": "code",
   "execution_count": 8,
   "id": "d26bc458-2154-4eb0-95db-48e92c4be4b1",
   "metadata": {},
   "outputs": [
    {
     "name": "stdin",
     "output_type": "stream",
     "text": [
      "Enter a number:  112343211\n"
     ]
    },
    {
     "name": "stdout",
     "output_type": "stream",
     "text": [
      "112343211 is a palindrome.\n"
     ]
    }
   ],
   "source": [
    "def is_palindrome(number):\n",
    "    original_number = number\n",
    "    reversed_number = 0\n",
    "\n",
    "    while number > 0:\n",
    "        remainder = number % 10\n",
    "        reversed_number = reversed_number * 10 + remainder\n",
    "        number //= 10\n",
    "\n",
    "    return original_number == reversed_number\n",
    "\n",
    "# Get input from the user\n",
    "num = int(input(\"Enter a number: \"))\n",
    "\n",
    "if is_palindrome(num):\n",
    "    print(f\"{num} is a palindrome.\")\n",
    "else:\n",
    "    print(f\"{num} is not a palindrome.\")\n"
   ]
  },
  {
   "cell_type": "markdown",
   "id": "77e192a9-fdad-4db3-a801-8885e7c9fe5c",
   "metadata": {},
   "source": [
    "Q9. Write a code to print odd numbers from 1 to 100 using list comprehension.\n",
    "Note: Use a list comprehension to create a list from 1 to 100 and use another List comprehension to filter\n",
    "out odd numbers."
   ]
  },
  {
   "cell_type": "code",
   "execution_count": 9,
   "id": "0467fd89-d4e3-47a2-9d32-b20748b48fdc",
   "metadata": {},
   "outputs": [
    {
     "name": "stdout",
     "output_type": "stream",
     "text": [
      "[1, 3, 5, 7, 9, 11, 13, 15, 17, 19, 21, 23, 25, 27, 29, 31, 33, 35, 37, 39, 41, 43, 45, 47, 49, 51, 53, 55, 57, 59, 61, 63, 65, 67, 69, 71, 73, 75, 77, 79, 81, 83, 85, 87, 89, 91, 93, 95, 97, 99]\n"
     ]
    }
   ],
   "source": [
    "# List comprehension to create a list from 1 to 100\n",
    "numbers_list = [num for num in range(1, 101)]\n",
    "\n",
    "# Using the filter function to filter out odd numbers\n",
    "odd_numbers_list = list(filter(lambda x: x % 2 != 0, numbers_list))\n",
    "\n",
    "# Print the list of odd numbers\n",
    "print(odd_numbers_list)\n"
   ]
  },
  {
   "cell_type": "code",
   "execution_count": null,
   "id": "748be0a5-d753-49cd-af19-d8e284a5a58e",
   "metadata": {},
   "outputs": [],
   "source": []
  }
 ],
 "metadata": {
  "kernelspec": {
   "display_name": "Python 3 (ipykernel)",
   "language": "python",
   "name": "python3"
  },
  "language_info": {
   "codemirror_mode": {
    "name": "ipython",
    "version": 3
   },
   "file_extension": ".py",
   "mimetype": "text/x-python",
   "name": "python",
   "nbconvert_exporter": "python",
   "pygments_lexer": "ipython3",
   "version": "3.10.8"
  }
 },
 "nbformat": 4,
 "nbformat_minor": 5
}
