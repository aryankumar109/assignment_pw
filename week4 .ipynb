{
 "cells": [
  {
   "cell_type": "markdown",
   "id": "b74a1828-66a7-4ebd-9e11-816424f71fd9",
   "metadata": {},
   "source": [
    "Q1, Create a vehicle class with an init method having instance variables as name_of_vehicle, max_speed\n",
    "and average_of_vehicle."
   ]
  },
  {
   "cell_type": "code",
   "execution_count": 1,
   "id": "7fe014c2-05ca-44b5-87e6-80107e3e97b6",
   "metadata": {},
   "outputs": [],
   "source": [
    "class Vehicle:\n",
    "    def __init__(self, name_of_vehicle, max_speed, average_of_vehicle):\n",
    "        self.name_of_vehicle = name_of_vehicle\n",
    "        self.max_speed = max_speed\n",
    "        self.average_of_vehicle = average_of_vehicle\n"
   ]
  },
  {
   "cell_type": "markdown",
   "id": "b3decb9e-d82f-47be-ba89-239bbe01bcbf",
   "metadata": {},
   "source": [
    "Q2. Create a child class car from the vehicle class created in Que 1, which will inherit the vehicle class.\n",
    "Create a method named seating_capacity which takes capacity as an argument and returns the name of\n",
    "the vehicle and its seating capacity."
   ]
  },
  {
   "cell_type": "code",
   "execution_count": 2,
   "id": "c0bcffa7-aff8-4882-819c-0585b1506b18",
   "metadata": {},
   "outputs": [],
   "source": [
    "class Vehicle:\n",
    "    def __init__(self, name_of_vehicle, max_speed, average_of_vehicle):\n",
    "        self.name_of_vehicle = name_of_vehicle\n",
    "        self.max_speed = max_speed\n",
    "        self.average_of_vehicle = average_of_vehicle\n",
    "\n",
    "class Car(Vehicle):\n",
    "    def __init__(self, name_of_vehicle, max_speed, average_of_vehicle):\n",
    "        super().__init__(name_of_vehicle, max_speed, average_of_vehicle)\n",
    "\n",
    "    def seating_capacity(self, capacity):\n",
    "        return f\"{self.name_of_vehicle} has a seating capacity of {capacity} passengers.\"\n"
   ]
  },
  {
   "cell_type": "markdown",
   "id": "e8d91c36-87b7-47d7-8aac-cef823f41335",
   "metadata": {},
   "source": [
    "Q3. What is multiple inheritance? Write a python code to demonstrate multiple inheritance."
   ]
  },
  {
   "cell_type": "code",
   "execution_count": 3,
   "id": "a72b611b-f471-48fb-b733-000e21e2cdcc",
   "metadata": {},
   "outputs": [
    {
     "name": "stdout",
     "output_type": "stream",
     "text": [
      "Vehicle: MyCar, Max Speed: 200 km/h, Engine Type: Petrol, Seating Capacity: 5\n"
     ]
    }
   ],
   "source": [
    "# Parent class 1\n",
    "class Vehicle:\n",
    "    def __init__(self, name_of_vehicle, max_speed):\n",
    "        self.name_of_vehicle = name_of_vehicle\n",
    "        self.max_speed = max_speed\n",
    "\n",
    "    def display_info(self):\n",
    "        return f\"Vehicle: {self.name_of_vehicle}, Max Speed: {self.max_speed} km/h\"\n",
    "\n",
    "\n",
    "# Parent class 2\n",
    "class Engine:\n",
    "    def __init__(self, engine_type):\n",
    "        self.engine_type = engine_type\n",
    "\n",
    "    def engine_info(self):\n",
    "        return f\"Engine Type: {self.engine_type}\"\n",
    "\n",
    "\n",
    "# Child class inheriting from both Vehicle and Engine\n",
    "class Car(Vehicle, Engine):\n",
    "    def __init__(self, name_of_vehicle, max_speed, engine_type, seating_capacity):\n",
    "        Vehicle.__init__(self, name_of_vehicle, max_speed)\n",
    "        Engine.__init__(self, engine_type)\n",
    "        self.seating_capacity = seating_capacity\n",
    "\n",
    "    def car_info(self):\n",
    "        return f\"{self.display_info()}, {self.engine_info()}, Seating Capacity: {self.seating_capacity}\"\n",
    "\n",
    "\n",
    "# Create an instance of Car and demonstrate multiple inheritance\n",
    "my_car = Car(name_of_vehicle=\"MyCar\", max_speed=200, engine_type=\"Petrol\", seating_capacity=5)\n",
    "print(my_car.car_info())\n"
   ]
  },
  {
   "cell_type": "markdown",
   "id": "812a4ab7-168c-437f-a0a7-c501475e7ab5",
   "metadata": {},
   "source": [
    "Q4. What are getter and setter in python? Create a class and create a getter and a setter method in this\n",
    "class."
   ]
  },
  {
   "cell_type": "code",
   "execution_count": 4,
   "id": "bb7d6c11-74f6-4a0b-8c3a-8f137407bf57",
   "metadata": {},
   "outputs": [
    {
     "name": "stdout",
     "output_type": "stream",
     "text": [
      "Name: John\n",
      "Updated Name: Jane\n",
      "Error: Name must be a non-empty string.\n",
      "Updated Age: 35\n",
      "Error: Age must be a positive integer.\n"
     ]
    }
   ],
   "source": [
    "class Person:\n",
    "    def __init__(self, name, age):\n",
    "        self._name = name\n",
    "        self._age = age\n",
    "\n",
    "    # Getter method for 'name' attribute\n",
    "    def get_name(self):\n",
    "        return self._name\n",
    "\n",
    "    # Setter method for 'name' attribute\n",
    "    def set_name(self, name):\n",
    "        if isinstance(name, str) and len(name) > 0:\n",
    "            self._name = name\n",
    "        else:\n",
    "            raise ValueError(\"Name must be a non-empty string.\")\n",
    "\n",
    "    # Getter method for 'age' attribute\n",
    "    def get_age(self):\n",
    "        return self._age\n",
    "\n",
    "    # Setter method for 'age' attribute\n",
    "    def set_age(self, age):\n",
    "        if isinstance(age, int) and age > 0:\n",
    "            self._age = age\n",
    "        else:\n",
    "            raise ValueError(\"Age must be a positive integer.\")\n",
    "\n",
    "# Creating an instance of the class\n",
    "person1 = Person(\"John\", 30)\n",
    "\n",
    "# Using the getter method to get the 'name' attribute\n",
    "print(\"Name:\", person1.get_name())\n",
    "\n",
    "# Using the setter method to set the 'name' attribute\n",
    "person1.set_name(\"Jane\")\n",
    "print(\"Updated Name:\", person1.get_name())\n",
    "\n",
    "# Using the setter method with invalid input (empty name)\n",
    "try:\n",
    "    person1.set_name(\"\")\n",
    "except ValueError as e:\n",
    "    print(\"Error:\", e)\n",
    "\n",
    "# Using the setter method to set the 'age' attribute\n",
    "person1.set_age(35)\n",
    "print(\"Updated Age:\", person1.get_age())\n",
    "\n",
    "# Using the setter method with invalid input (negative age)\n",
    "try:\n",
    "    person1.set_age(-5)\n",
    "except ValueError as e:\n",
    "    print(\"Error:\", e)\n"
   ]
  },
  {
   "cell_type": "markdown",
   "id": "18e4cfbd-6e12-469a-b4ed-44086ce91f7d",
   "metadata": {},
   "source": [
    "Q5.What is method overriding in python? Write a python code to demonstrate method overriding."
   ]
  },
  {
   "cell_type": "code",
   "execution_count": 5,
   "id": "7661c9d9-baf9-4dbe-ad70-25d1c369567b",
   "metadata": {},
   "outputs": [
    {
     "name": "stdout",
     "output_type": "stream",
     "text": [
      "Animal Sound: Generic animal sound\n",
      "Cat Sound: Meow\n",
      "Dog Sound: Woof\n",
      "Cow Sound: Generic animal sound\n"
     ]
    }
   ],
   "source": [
    "class Animal:\n",
    "    def make_sound(self):\n",
    "        return \"Generic animal sound\"\n",
    "\n",
    "class Cat(Animal):\n",
    "    def make_sound(self):\n",
    "        return \"Meow\"\n",
    "\n",
    "class Dog(Animal):\n",
    "    def make_sound(self):\n",
    "        return \"Woof\"\n",
    "\n",
    "class Cow(Animal):\n",
    "    pass\n",
    "\n",
    "# Creating instances of the classes\n",
    "animal = Animal()\n",
    "cat = Cat()\n",
    "dog = Dog()\n",
    "cow = Cow()\n",
    "\n",
    "# Demonstrating method overriding\n",
    "print(\"Animal Sound:\", animal.make_sound())  # Output: \"Generic animal sound\"\n",
    "print(\"Cat Sound:\", cat.make_sound())        # Output: \"Meow\"\n",
    "print(\"Dog Sound:\", dog.make_sound())        # Output: \"Woof\"\n",
    "print(\"Cow Sound:\", cow.make_sound())        # Output: \"Generic animal sound\" (inherited from the superclass)\n"
   ]
  },
  {
   "cell_type": "code",
   "execution_count": null,
   "id": "3351e827-eac0-4667-8e9c-e1804e5cb314",
   "metadata": {},
   "outputs": [],
   "source": []
  }
 ],
 "metadata": {
  "kernelspec": {
   "display_name": "Python 3 (ipykernel)",
   "language": "python",
   "name": "python3"
  },
  "language_info": {
   "codemirror_mode": {
    "name": "ipython",
    "version": 3
   },
   "file_extension": ".py",
   "mimetype": "text/x-python",
   "name": "python",
   "nbconvert_exporter": "python",
   "pygments_lexer": "ipython3",
   "version": "3.10.8"
  }
 },
 "nbformat": 4,
 "nbformat_minor": 5
}
