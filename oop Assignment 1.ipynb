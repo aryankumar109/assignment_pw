{
 "cells": [
  {
   "cell_type": "markdown",
   "id": "76e69711-a01d-4679-bb92-cb73a62972c6",
   "metadata": {},
   "source": [
    "Q1. Explain Class and Object with respect to Object-Oriented Programming. Give a suitable example."
   ]
  },
  {
   "cell_type": "code",
   "execution_count": 1,
   "id": "f8567862-b01e-494c-9797-0e7e83461642",
   "metadata": {},
   "outputs": [
    {
     "name": "stdout",
     "output_type": "stream",
     "text": [
      "40\n",
      "30\n"
     ]
    }
   ],
   "source": [
    "class Car:\n",
    "    def __init__(self, make, model, year, color):\n",
    "        self.make = make\n",
    "        self.model = model\n",
    "        self.year = year\n",
    "        self.color = color\n",
    "        self.speed = 0\n",
    "\n",
    "    def accelerate(self, acceleration):\n",
    "        self.speed += acceleration\n",
    "\n",
    "    def brake(self, deceleration):\n",
    "        self.speed -= deceleration\n",
    "\n",
    "    def get_speed(self):\n",
    "        return self.speed\n",
    "# Creating objects of the Car class\n",
    "car1 = Car(\"Toyota\", \"Corolla\", 2022, \"Blue\")\n",
    "car2 = Car(\"Honda\", \"Civic\", 2021, \"Red\")\n",
    "\n",
    "# Performing actions on the objects\n",
    "car1.accelerate(50)\n",
    "car2.accelerate(30)\n",
    "car1.brake(10)\n",
    "\n",
    "# Getting the speeds of the cars\n",
    "print(car1.get_speed())  # Output: 40\n",
    "print(car2.get_speed())  # Output: 30\n"
   ]
  },
  {
   "cell_type": "markdown",
   "id": "ad38ccda-b045-4d13-8b8c-12086fbc5a46",
   "metadata": {},
   "source": [
    "Q2. Name the four pillars of OOPs."
   ]
  },
  {
   "cell_type": "markdown",
   "id": "6d957cfc-6ba4-460d-9315-ecd12c9e7dc2",
   "metadata": {},
   "source": [
    "The four pillars of object-oriented programming (OOP) are:\n",
    "\n",
    "1. Encapsulation: Encapsulation is the process of bundling data (attributes) and methods (functions) that operate on that data within a single unit, i.e., the class. It allows the class to control the access to its data, preventing direct manipulation from outside. Instead, external interactions occur through well-defined methods, which ensures data integrity and security.\n",
    "\n",
    "2. Abstraction: Abstraction is the concept of simplifying complex systems by representing only the essential features while hiding the unnecessary details. In OOP, abstraction is achieved by defining abstract classes and interfaces, which serve as templates for other classes. Abstract classes cannot be instantiated and provide a blueprint for other classes to inherit from, while interfaces define a contract that classes must follow.\n",
    "\n",
    "3. Inheritance: Inheritance is a mechanism that allows a class (child or subclass) to inherit properties and behaviors from another class (parent or superclass). The child class can extend and specialize the functionality of the parent class while retaining its own unique characteristics. Inheritance promotes code reusability and hierarchy in the class structure.\n",
    "\n",
    "4. Polymorphism: Polymorphism allows objects of different classes to be treated as objects of a common superclass. It enables a single interface to represent multiple types, allowing flexibility and extensibility in the code. Polymorphism is achieved through method overloading (having multiple methods with the same name but different parameters) and method overriding (redefining a method in a subclass to provide a different implementation). This feature simplifies code maintenance and enhances flexibility."
   ]
  },
  {
   "cell_type": "markdown",
   "id": "b4a76392-d29a-4c00-9bf5-873619cc4dd9",
   "metadata": {},
   "source": [
    "Q3. Explain why the __init__() function is used. Give a suitable example."
   ]
  },
  {
   "cell_type": "markdown",
   "id": "939f4400-d193-4226-bc15-4289dd139afc",
   "metadata": {},
   "source": [
    "In Python, the __init__() function is a special method, also known as a constructor. It is used to initialize the object's attributes when an instance of a class is created. The __init__() method is automatically called when an object is instantiated, and it allows you to set the initial state of the object and perform any necessary setup."
   ]
  },
  {
   "cell_type": "code",
   "execution_count": 2,
   "id": "aa274d54-2234-4365-b0e8-f843cf2e9003",
   "metadata": {},
   "outputs": [
    {
     "name": "stdout",
     "output_type": "stream",
     "text": [
      "Hi, I'm Alice, and I'm 30 years old. I work as a Software Engineer.\n",
      "Hi, I'm Bob, and I'm 25 years old. I work as a Data Scientist.\n"
     ]
    }
   ],
   "source": [
    "class Person:\n",
    "    def __init__(self, name, age, occupation):\n",
    "        self.name = name\n",
    "        self.age = age\n",
    "        self.occupation = occupation\n",
    "\n",
    "    def introduce(self):\n",
    "        print(f\"Hi, I'm {self.name}, and I'm {self.age} years old. I work as a {self.occupation}.\")\n",
    "\n",
    "# Creating objects of the Person class\n",
    "person1 = Person(\"Alice\", 30, \"Software Engineer\")\n",
    "person2 = Person(\"Bob\", 25, \"Data Scientist\")\n",
    "\n",
    "# Calling the introduce() method for each object\n",
    "person1.introduce()  # Output: Hi, I'm Alice, and I'm 30 years old. I work as a Software Engineer.\n",
    "person2.introduce()  # Output: Hi, I'm Bob, and I'm 25 years old. I work as a Data Scientist.\n"
   ]
  },
  {
   "cell_type": "markdown",
   "id": "0524f1fd-467e-496e-b96f-7249a721a122",
   "metadata": {},
   "source": [
    "Q4. Why self is used in OOPs?"
   ]
  },
  {
   "cell_type": "markdown",
   "id": "d081025f-029c-49bb-bbb4-632f35c2d9d7",
   "metadata": {},
   "source": [
    "The use of self is crucial in OOP for the following reasons:\n",
    "\n",
    "Accessing object attributes: By using self, we can access the attributes (data members) of the object within the class methods. It allows us to work with the specific data associated with each instance of the class.\n",
    "\n",
    "Calling other class methods: Inside a method, you may need to call other methods of the same class. By using self, you can easily call other methods on the same object.\n",
    "\n",
    "Differentiating instance and local variables: When a method receives arguments, it's essential to distinguish between instance variables (attributes) and local variables. The self keyword helps to differentiate and access the instance variables.\n",
    "\n",
    "Creating and modifying object state: When you create a new instance of a class, you often need to initialize its attributes and set its initial state. The self parameter allows you to access and modify the state of the object during its creation and throughout its lifecycle."
   ]
  },
  {
   "cell_type": "markdown",
   "id": "c6a2c886-056c-42fd-b0d1-dab744a71148",
   "metadata": {},
   "source": [
    "Q5. What is inheritance? Give an example for each type of inheritance."
   ]
  },
  {
   "cell_type": "markdown",
   "id": "bc720b8d-b4ae-491f-9849-c1bb7522a69c",
   "metadata": {},
   "source": [
    "\n",
    "Inheritance is a fundamental concept in object-oriented programming (OOP) that allows a class (called the child or subclass) to inherit attributes and methods from another class (called the parent or superclass). The child class can extend or override the functionality of the parent class, promoting code reuse and creating a hierarchical relationship between classes.\n",
    "\n",
    "There are different types of inheritance in OOP, namely:\n",
    "\n",
    "Single Inheritance:\n",
    "In single inheritance, a class inherits from only one parent class. This is the most common type of inheritance."
   ]
  },
  {
   "cell_type": "code",
   "execution_count": 1,
   "id": "5dd9ef15-99b2-4995-b6dd-77c538ed27d2",
   "metadata": {},
   "outputs": [
    {
     "name": "stdout",
     "output_type": "stream",
     "text": [
      "Canine\n",
      "Woof!\n"
     ]
    }
   ],
   "source": [
    "class Animal:\n",
    "    def __init__(self, species):\n",
    "        self.species = species\n",
    "\n",
    "    def make_sound(self):\n",
    "        pass\n",
    "\n",
    "class Dog(Animal):\n",
    "    def make_sound(self):\n",
    "        return \"Woof!\"\n",
    "\n",
    "# Creating an object of the Dog class\n",
    "dog = Dog(\"Canine\")\n",
    "print(dog.species)  # Output: Canine\n",
    "print(dog.make_sound())  # Output: Woof!\n"
   ]
  },
  {
   "cell_type": "markdown",
   "id": "45239014-135d-487f-b9be-07dba99cfb06",
   "metadata": {},
   "source": [
    "Multiple Inheritance:\n",
    "Multiple inheritance allows a class to inherit from more than one parent class. It enables a class to combine the attributes and methods of multiple classes."
   ]
  },
  {
   "cell_type": "code",
   "execution_count": 3,
   "id": "8a078515-9d42-40f8-8c1c-8be4dab219b4",
   "metadata": {},
   "outputs": [
    {
     "name": "stdout",
     "output_type": "stream",
     "text": [
      "I can fly!\n",
      "I can swim!\n"
     ]
    }
   ],
   "source": [
    "class Flyer:\n",
    "    def fly(self):\n",
    "        return \"I can fly!\"\n",
    "\n",
    "class Swimmer:\n",
    "    def swim(self):\n",
    "        return \"I can swim!\"\n",
    "\n",
    "class Duck(Flyer, Swimmer):\n",
    "    pass\n",
    "\n",
    "# Creating an object of the Duck class\n",
    "duck = Duck()\n",
    "print(duck.fly())   # Output: I can fly!\n",
    "print(duck.swim())  # Output: I can swim!\n"
   ]
  },
  {
   "cell_type": "markdown",
   "id": "3590f90a-d3e4-4bc1-ba8e-3e2202e5a31e",
   "metadata": {},
   "source": [
    "Multi-Level Inheritance:\n",
    "Multi-level inheritance occurs when a class inherits from another class, which, in turn, inherits from yet another class. It creates a chain of inheritance."
   ]
  },
  {
   "cell_type": "code",
   "execution_count": 4,
   "id": "0635ee37-4f0c-499e-90f1-711e1f99e9ad",
   "metadata": {},
   "outputs": [
    {
     "name": "stdout",
     "output_type": "stream",
     "text": [
      "Brand: Toyota\n"
     ]
    }
   ],
   "source": [
    "class Vehicle:\n",
    "    def __init__(self, brand):\n",
    "        self.brand = brand\n",
    "\n",
    "    def display_brand(self):\n",
    "        return f\"Brand: {self.brand}\"\n",
    "\n",
    "class Car(Vehicle):\n",
    "    pass\n",
    "\n",
    "class Sedan(Car):\n",
    "    pass\n",
    "\n",
    "# Creating an object of the Sedan class\n",
    "sedan = Sedan(\"Toyota\")\n",
    "print(sedan.display_brand())  # Output: Brand: Toyota\n"
   ]
  },
  {
   "cell_type": "code",
   "execution_count": null,
   "id": "59c9037d-8ae2-469c-8d56-ee0e851ad44d",
   "metadata": {},
   "outputs": [],
   "source": []
  }
 ],
 "metadata": {
  "kernelspec": {
   "display_name": "Python 3 (ipykernel)",
   "language": "python",
   "name": "python3"
  },
  "language_info": {
   "codemirror_mode": {
    "name": "ipython",
    "version": 3
   },
   "file_extension": ".py",
   "mimetype": "text/x-python",
   "name": "python",
   "nbconvert_exporter": "python",
   "pygments_lexer": "ipython3",
   "version": "3.10.8"
  }
 },
 "nbformat": 4,
 "nbformat_minor": 5
}
