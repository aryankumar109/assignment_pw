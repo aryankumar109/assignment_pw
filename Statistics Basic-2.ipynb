{
 "cells": [
  {
   "cell_type": "raw",
   "id": "c1fcaa5c-77f5-4230-8847-63e3d3ef58f1",
   "metadata": {},
   "source": [
    "Q1. What are the three measures of central tendency?"
   ]
  },
  {
   "cell_type": "markdown",
   "id": "1bb72a26-61fb-4760-a241-401ccfeccfeb",
   "metadata": {},
   "source": [
    "mean \n",
    "meadian \n",
    "mode"
   ]
  },
  {
   "cell_type": "raw",
   "id": "2ee87b94-3a17-4f2e-805b-9992d4ee5352",
   "metadata": {},
   "source": [
    "Q2. What is the difference between the mean, median, and mode? How are they used to measure the\n",
    "central tendency of a dataset?"
   ]
  },
  {
   "cell_type": "markdown",
   "id": "d5e1cb37-6c35-4fd5-9c06-e88df5b3d761",
   "metadata": {},
   "source": [
    "Mean, median, and mode are three different measures used to describe the central tendency of a dataset. They provide insights into where the \"center\" of the data is located, but they do so in different ways and may be more appropriate in different situations.\n",
    "\n",
    "1. Mean:\n",
    "   - The mean, often referred to as the average, is calculated by adding up all the values in a dataset and then dividing by the total number of values.\n",
    "   - It is the most common measure of central tendency.\n",
    "   - It is sensitive to extreme values (outliers) and can be heavily influenced by them. In cases where there are outliers, the mean may not accurately represent the \"typical\" value in the dataset.\n",
    "   - It is expressed as: Mean = (Sum of all values) / (Number of values).\n",
    "\n",
    "2. Median:\n",
    "   - The median is the middle value when a dataset is arranged in ascending or descending order. If there is an even number of data points, the median is the average of the two middle values.\n",
    "   - It is a robust measure of central tendency because it is not affected by outliers as much as the mean.\n",
    "   - It is useful for datasets with skewed distributions, as it represents the value that separates the higher half from the lower half of the data.\n",
    "   - The median is useful when you want to find the \"typical\" value without being influenced by extreme values.\n",
    "\n",
    "3. Mode:\n",
    "   - The mode is the value that appears most frequently in a dataset.\n",
    "   - It is useful for categorical or discrete data and can have multiple modes (bimodal, trimodal, etc.) if more than one value occurs with the highest frequency.\n",
    "   - For continuous data, the concept of a mode is less common and may involve grouping data into intervals or bins to find the modal range.\n",
    "   - The mode is suitable when you want to identify the most common or popular value in a dataset.\n",
    "\n",
    "In summary:\n",
    "- The mean provides an average value and is useful for normally distributed data with no extreme outliers.\n",
    "- The median is the middle value and is suitable for skewed or non-normally distributed data or when you want to mitigate the influence of outliers.\n",
    "- The mode identifies the most frequent value and is primarily used for categorical data.\n",
    "\n",
    "In practice, it's often beneficial to consider all three measures to gain a more comprehensive understanding of the central tendency of a dataset, especially when the dataset has unique characteristics or complex distributions."
   ]
  },
  {
   "cell_type": "raw",
   "id": "0a9f55c5-0914-441e-8619-56408ebe9ab4",
   "metadata": {},
   "source": [
    "Q3. Measure the three measures of central tendency for the given height data:\n",
    "[178,177,176,177,178.2,178,175,179,180,175,178.9,176.2,177,172.5,178,176.5]"
   ]
  },
  {
   "cell_type": "markdown",
   "id": "eb4b3d65-4d0e-403f-8887-3f290398d8ea",
   "metadata": {},
   "source": [
    "To calculate the mean, median, and mode for the given height data, follow these steps:\n",
    "\n",
    "1. Mean (Average):\n",
    "   Mean = (Sum of all values) / (Number of values)\n",
    "\n",
    "   Mean = (178 + 177 + 176 + 177 + 178.2 + 178 + 175 + 179 + 180 + 175 + 178.9 + 176.2 + 177 + 172.5 + 178 + 176.5) / 16\n",
    "   Mean = 2846.3 / 16\n",
    "   Mean ≈ 178.14 (rounded to two decimal places)\n",
    "\n",
    "2. Median:\n",
    "   To find the median, first, you need to arrange the data in ascending order:\n",
    "\n",
    "   172.5, 175, 175, 176, 176, 176.2, 177, 177, 178, 178, 178, 178, 178.2, 178.9, 179, 180\n",
    "\n",
    "   Since there are 16 data points (an even number), you take the average of the two middle values:\n",
    "\n",
    "   Median = (177 + 178) / 2\n",
    "   Median = 355 / 2\n",
    "   Median = 177.5\n",
    "\n",
    "3. Mode:\n",
    "   The mode is the value that appears most frequently. In this dataset, it appears that the number 178 occurs the most times (four times), making it the mode.\n",
    "\n",
    "So, for the given height data:\n",
    "- Mean ≈ 178.14\n",
    "- Median = 177.5\n",
    "- Mode = 178"
   ]
  },
  {
   "cell_type": "raw",
   "id": "5edd80af-ad39-45fb-8c46-61ddc7b7da9f",
   "metadata": {},
   "source": [
    "Q4. Find the standard deviation for the given data:\n",
    "[178,177,176,177,178.2,178,175,179,180,175,178.9,176.2,177,172.5,178,176.5]"
   ]
  },
  {
   "cell_type": "code",
   "execution_count": 1,
   "id": "495694a1-53cc-414c-96a8-86e44fcfb119",
   "metadata": {},
   "outputs": [
    {
     "name": "stdout",
     "output_type": "stream",
     "text": [
      "0    1.847239\n",
      "dtype: float64\n"
     ]
    }
   ],
   "source": [
    "import pandas as pd\n",
    "\n",
    "# Create a list of data\n",
    "data = [178,177,176,177,178.2,178,175,179,180,175,178.9,176.2,177,172.5,178,176.5]\n",
    "\n",
    "# Create a DataFrame\n",
    "df = pd.DataFrame(data)\n",
    "\n",
    "# Calculate the standard deviation\n",
    "standard_deviation = df.std()\n",
    "\n",
    "# Print the standard deviation\n",
    "print(standard_deviation)\n"
   ]
  },
  {
   "cell_type": "raw",
   "id": "d10974df-a855-4a85-882b-48b0462678a5",
   "metadata": {},
   "source": [
    "Q5. How are measures of dispersion such as range, variance, and standard deviation used to describe\n",
    "the spread of a dataset? Provide an example."
   ]
  },
  {
   "cell_type": "markdown",
   "id": "f47db072-6f44-418e-b5ac-0d6f1198d6e8",
   "metadata": {},
   "source": [
    "Measures of dispersion, including range, variance, and standard deviation, are used to describe the spread or dispersion of data in a dataset. They provide information about how spread out the values are from the central tendency (mean, median, or mode) of the dataset. Here's how each of these measures works and their applications, along with an example:\n",
    "\n",
    "1. Range:\n",
    "   - The range is the simplest measure of dispersion and is calculated as the difference between the maximum and minimum values in a dataset.\n",
    "   - Range = Max Value - Min Value\n",
    "   - It provides a rough estimate of the total spread in the data.\n",
    "\n",
    "   Example: Consider the following dataset of exam scores: [85, 92, 78, 96, 72]. The range is 96 - 72 = 24, indicating that the scores vary by 24 points.\n",
    "\n",
    "2. Variance:\n",
    "   - Variance quantifies how much the values in the dataset deviate from the mean.\n",
    "   - It is calculated by finding the average of the squared differences between each data point and the mean.\n",
    "   - Variance = (Sum of (Data Point - Mean)^2) / (Number of values - 1)\n",
    "   - A higher variance indicates greater variability in the data.\n",
    "\n",
    "   Example: For a dataset of test scores: [80, 85, 90, 75, 95], if the mean is 85, the variance is calculated as [(80-85)^2 + (85-85)^2 + (90-85)^2 + (75-85)^2 + (95-85)^2] / 4 = 62.5.\n",
    "\n",
    "3. Standard Deviation:\n",
    "   - The standard deviation is the square root of the variance.\n",
    "   - It provides a measure of the average distance between each data point and the mean.\n",
    "   - It is widely used because it's in the same units as the original data.\n",
    "   - A larger standard deviation implies greater variability.\n",
    "\n",
    "   Example: Using the same test scores dataset, if the variance is 62.5, the standard deviation is the square root of 62.5, which is approximately 7.91.\n",
    "\n",
    "Applications:\n",
    "- Range is a simple way to quickly understand the spread of a dataset but doesn't take into account individual data points.\n",
    "- Variance and standard deviation provide a more detailed and accurate measure of the spread and are useful for comparing the dispersion of different datasets.\n",
    "- These measures help in decision-making, risk assessment, quality control, and statistical analysis in various fields, such as finance, science, and social sciences.\n",
    "\n",
    "In summary, measures of dispersion help to quantify the variability or spread within a dataset, providing valuable information about the data's distribution and its implications for analysis or decision-making."
   ]
  },
  {
   "cell_type": "raw",
   "id": "f3925d60-df73-4543-8fca-98c9a328b101",
   "metadata": {},
   "source": [
    "Q6. What is a Venn diagram?"
   ]
  },
  {
   "cell_type": "raw",
   "id": "9510740c-7be9-4f09-ac29-085a2c0b330c",
   "metadata": {},
   "source": [
    "A Venn diagram is a graphical representation used to depict the relationships and commonalities between different sets or groups. It consists of overlapping circles, each representing a set, and the areas of overlap indicate the elements that are shared or common between those sets. Venn diagrams are named after John Venn, a British logician and philosopher who introduced them in the late 19th century.\n",
    "\n",
    "Key features of a Venn diagram include:\n",
    "\n",
    "1. Circles: Each circle in a Venn diagram represents a specific set, group, or category. The elements belonging to that set are contained within the circle.\n",
    "\n",
    "2. Overlapping Regions: When two or more circles overlap, the areas of overlap represent the elements that are shared or common to the corresponding sets. The size of the overlap area indicates the extent of the intersection between the sets.\n",
    "\n",
    "3. Non-overlapping Regions: The regions of each circle that do not overlap with any other circles represent the elements unique to that specific set.\n",
    "\n",
    "Venn diagrams are commonly used to illustrate concepts in various fields, including mathematics, logic, statistics, and data analysis. They can be helpful for visualizing the relationships between sets, identifying commonalities, differences, and intersections, and simplifying complex concepts. Venn diagrams are also frequently used in education to teach set theory and logic and in business and data analysis to represent data relationships and overlaps between different categories or groups."
   ]
  },
  {
   "cell_type": "raw",
   "id": "4233f6aa-166c-4b31-b47a-81799ad0040e",
   "metadata": {},
   "source": [
    "Q7. For the two given sets A = (2,3,4,5,6,7) & B = (0,2,6,8,10). Find:\n",
    "(i) A B\n",
    "(ii) A ⋃ B"
   ]
  },
  {
   "cell_type": "code",
   "execution_count": 2,
   "id": "ea76a216-c114-4d12-922f-0a2a2170854b",
   "metadata": {},
   "outputs": [
    {
     "name": "stdout",
     "output_type": "stream",
     "text": [
      "Intersection (A ∩ B): {2, 6}\n",
      "Union (A ∪ B): {0, 2, 3, 4, 5, 6, 7, 8, 10}\n"
     ]
    }
   ],
   "source": [
    "# Define the sets A and B\n",
    "A = {2, 3, 4, 5, 6, 7}\n",
    "B = {0, 2, 6, 8, 10}\n",
    "\n",
    "# (i) Intersection of sets A and B (A ∩ B)\n",
    "intersection = A.intersection(B)\n",
    "print(\"Intersection (A ∩ B):\", intersection)\n",
    "\n",
    "# (ii) Union of sets A and B (A ∪ B)\n",
    "union = A.union(B)\n",
    "print(\"Union (A ∪ B):\", union)\n"
   ]
  },
  {
   "cell_type": "raw",
   "id": "01dc24e2-0bdd-480d-80c4-e1a1a084fc22",
   "metadata": {},
   "source": [
    "Q8. What do you understand about skewness in data?"
   ]
  },
  {
   "cell_type": "markdown",
   "id": "a1d6c6f6-2640-4dc0-a7e5-1c9ce6b1c9d8",
   "metadata": {},
   "source": [
    "Skewness is a statistical measure that describes the asymmetry or lack of symmetry in the distribution of data. It provides information about the shape of a dataset's probability distribution. When a dataset is perfectly symmetrical, the skewness is zero. However, when the distribution is not symmetrical, skewness helps to quantify the direction and degree of that asymmetry.\n",
    "\n",
    "There are three primary types of skewness:\n",
    "\n",
    "1. **Positive Skew (Right Skew)**:\n",
    "   - In a positively skewed distribution, the tail on the right side (the larger values) is longer or fatter than the left tail.\n",
    "   - The mean is typically greater than the median in a positively skewed distribution because the presence of a few extremely high values \"pulls\" the mean in their direction.\n",
    "   - This skewness is often associated with data where rare, high-value events occur, causing a longer tail of high values.\n",
    "\n",
    "2. **Negative Skew (Left Skew)**:\n",
    "   - In a negatively skewed distribution, the tail on the left side (the smaller values) is longer or fatter than the right tail.\n",
    "   - The mean is typically less than the median in a negatively skewed distribution because the presence of a few extremely low values \"pulls\" the mean in their direction.\n",
    "   - Negative skewness is often seen in data where lower values are more prevalent, and there are few extremely low outliers.\n",
    "\n",
    "3. **Zero Skew (Symmetrical)**:\n",
    "   - In a perfectly symmetrical distribution, there is no skewness, and the mean and median are equal.\n",
    "   - Most traditional statistical methods assume a symmetrical distribution.\n",
    "\n",
    "Skewness can be quantified using different formulas, with the most common one being Pearson's first coefficient of skewness (often simply called the skewness coefficient). It measures the degree of skewness and can be calculated as:\n",
    "\n",
    "Skewness = [(Mean - Median) / Standard Deviation]\n",
    "\n",
    "- If Skewness > 0, it indicates positive skew.\n",
    "- If Skewness < 0, it indicates negative skew.\n",
    "- If Skewness = 0, it indicates a perfectly symmetrical distribution.\n",
    "\n",
    "Understanding skewness in data is important because it can impact the choice of statistical analysis and can provide insights into the nature of the data. For instance, positively skewed data may require transformation to approach normality in parametric statistical tests, while negatively skewed data might be indicative of issues like floor effects in measurements. It's an essential concept in data analysis and statistics."
   ]
  },
  {
   "cell_type": "raw",
   "id": "42bc2351-78e4-41c5-92dc-5216ad4caea8",
   "metadata": {},
   "source": [
    "Q9. If a data is right skewed then what will be the position of median with respect to mean?"
   ]
  },
  {
   "cell_type": "markdown",
   "id": "dcfcad5a-540c-46e1-977c-27dd5d5de0ff",
   "metadata": {},
   "source": [
    "median will be left of mean."
   ]
  },
  {
   "cell_type": "raw",
   "id": "22bd28c3-9784-4605-85c1-4495ae201694",
   "metadata": {},
   "source": [
    "Q10. Explain the difference between covariance and correlation. How are these measures used in\n",
    "statistical analysis?"
   ]
  },
  {
   "cell_type": "markdown",
   "id": "39d84981-ce1d-4145-a387-bf95c9d31be9",
   "metadata": {},
   "source": [
    "**Covariance** is a statistical measure of how two variables change together. It is calculated by multiplying the deviations of each variable from its mean and averaging the products. A positive covariance means that the two variables tend to move in the same direction, while a negative covariance means that they tend to move in opposite directions.\n",
    "\n",
    "**Correlation** is a measure of the strength and direction of the relationship between two variables. It is calculated by dividing the covariance of the two variables by the product of their standard deviations. Correlation values range from -1 to 1, with -1 indicating a perfect negative correlation, 1 indicating a perfect positive correlation, and 0 indicating no correlation.\n",
    "\n",
    "**The key difference between covariance and correlation is that covariance is not standardized, while correlation is.** This means that covariance values are dependent on the scale of the variables, while correlation values are not. This makes correlation a more useful measure for comparing the relationships between different variables.\n",
    "\n",
    "**Covariance and correlation are used in statistical analysis to identify and measure the relationships between variables.** This information can then be used to make predictions about one variable based on the other variable(s). For example, if a company finds that there is a positive correlation between advertising spending and sales, they can use this information to predict how much sales will increase if they increase their advertising spending.\n",
    "\n",
    "Here are some examples of how covariance and correlation can be used in statistical analysis:\n",
    "\n",
    "* **Finance:** Covariance and correlation can be used to measure the risk of a portfolio of investments. For example, an investor might want to choose a portfolio of investments with a low covariance, so that the returns of the different investments are not too closely correlated.\n",
    "* **Marketing:** Covariance and correlation can be used to identify the relationships between different marketing variables, such as advertising spending, brand awareness, and sales. For example, a company might want to identify the combination of marketing variables that is most effective at generating sales.\n",
    "* **Medicine:** Covariance and correlation can be used to identify the relationships between different medical variables, such as blood pressure, cholesterol levels, and heart disease risk. For example, a doctor might want to identify the combination of medical variables that is most predictive of heart disease risk.\n",
    "\n",
    "Overall, covariance and correlation are two important statistical measures that can be used to identify and measure the relationships between variables. This information can then be used to make predictions and decisions in a variety of fields."
   ]
  },
  {
   "cell_type": "raw",
   "id": "85380f00-a7b2-4994-aeba-057e588b0d84",
   "metadata": {},
   "source": [
    "Q11. What is the formula for calculating the sample mean? Provide an example calculation for a\n",
    "dataset."
   ]
  },
  {
   "cell_type": "markdown",
   "id": "c1e281fe-cdd8-4a33-b55f-6d8e4361f4ba",
   "metadata": {},
   "source": [
    "The formula for calculating the sample mean is:\n",
    "\n",
    "```\n",
    "Sample mean = (Sum of all values in the sample) / (Number of values in the sample)\n",
    "```\n",
    "\n",
    "**Example calculation:**\n",
    "\n",
    "Suppose we have a sample dataset of the heights of 10 students, as follows:\n",
    "\n",
    "```\n",
    "[165, 168, 170, 172, 174, 176, 178, 180, 182, 184]\n",
    "```\n",
    "\n",
    "To calculate the sample mean, we would first sum all of the values in the dataset:\n",
    "\n",
    "```\n",
    "Sum of all values = 165 + 168 + 170 + 172 + 174 + 176 + 178 + 180 + 182 + 184 = 1737\n",
    "```\n",
    "\n",
    "Next, we would divide the sum of all values by the number of values in the sample:\n",
    "\n",
    "```\n",
    "Sample mean = 1737 / 10 = 173.7\n",
    "```\n",
    "\n",
    "Therefore, the sample mean height of the 10 students is 173.7 cm.\n",
    "\n",
    "**Note:** The sample mean is an estimate of the population mean, which is the mean of all values in the population. The sample mean will be more accurate as the sample size increases."
   ]
  },
  {
   "cell_type": "raw",
   "id": "29508fd0-073a-4029-bbb3-0bb95ed4447b",
   "metadata": {},
   "source": [
    "Q12. For a normal distribution data what is the relationship between its measure of central tendency?"
   ]
  },
  {
   "cell_type": "markdown",
   "id": "37d5104c-3c79-4898-9460-0eab3937bd84",
   "metadata": {},
   "source": [
    "In a normal distribution, the mean, median, and mode are all equal. This is because a normal distribution is perfectly symmetrical, with the majority of values clustered around the central tendency.\n",
    "\n",
    "**Example:**\n",
    "\n",
    "Consider a normal distribution of heights of 100 people. The mean, median, and mode will all be the same value, which is the height that is most common in the population. For example, if the most common height is 170 cm, then the mean, median, and mode will all be 170 cm.\n",
    "\n",
    "This relationship between the measures of central tendency in a normal distribution is useful because it means that we can use any of the three measures to describe the central tendency of the data. For example, if we want to know the typical height of a person in the population, we can use the mean, median, or mode.\n",
    "\n",
    "**Why is this relationship true?**\n",
    "\n",
    "The relationship between the measures of central tendency in a normal distribution is true because a normal distribution is a special type of symmetrical distribution. In a symmetrical distribution, the left and right halves of the distribution are mirror images of each other. This means that the mean, median, and mode must all be equal.\n",
    "\n",
    "**Another way to think about it is that the mean, median, and mode are all measures of the central tendency of a distribution. In a normal distribution, the central tendency is the same at all points on the distribution. Therefore, the mean, median, and mode must all be equal.**"
   ]
  },
  {
   "cell_type": "raw",
   "id": "300c5d6c-3403-4ab2-ad1b-ea6c973cbb23",
   "metadata": {},
   "source": [
    "Q13. How is covariance different from correlation?"
   ]
  },
  {
   "cell_type": "markdown",
   "id": "b1352b9e-fe79-4d25-9523-ef75d070f554",
   "metadata": {},
   "source": [
    "Covariance and correlation are two statistical measures that are used to identify and measure the relationships between variables. However, there are some key differences between the two measures.\n",
    "\n",
    "**Covariance** is a measure of how two variables change together. It is calculated by multiplying the deviations of each variable from its mean and averaging the products. A positive covariance means that the two variables tend to move in the same direction, while a negative covariance means that they tend to move in opposite directions.\n",
    "\n",
    "**Correlation** is a measure of the strength and direction of the relationship between two variables. It is calculated by dividing the covariance of the two variables by the product of their standard deviations. Correlation values range from -1 to 1, with -1 indicating a perfect negative correlation, 1 indicating a perfect positive correlation, and 0 indicating no correlation.\n",
    "\n",
    "The **key difference** between covariance and correlation is that **covariance is not standardized, while correlation is**. This means that covariance values are dependent on the scale of the variables, while correlation values are not. This makes correlation a more useful measure for comparing the relationships between different variables.\n",
    "\n",
    "For example, suppose we have two variables: height and weight. The covariance between height and weight would be a positive number, because people who are taller tend to be heavier. However, the correlation between height and weight would depend on the units in which we measure height and weight. If we measure height in centimeters and weight in kilograms, the correlation would be lower than if we measure height in inches and weight in pounds.\n",
    "\n",
    "This is because the covariance between height and weight would be higher if we measure height in inches and weight in pounds, because the standard deviation of height and weight would be larger in those units. However, the correlation between height and weight would be the same regardless of the units in which we measure them.\n",
    "\n",
    "**In general, correlation is a more useful measure than covariance for comparing the relationships between different variables.** This is because correlation is not dependent on the scale of the variables."
   ]
  },
  {
   "cell_type": "code",
   "execution_count": null,
   "id": "795a03e5-09d1-4fff-a6a7-aba32722b51e",
   "metadata": {},
   "outputs": [],
   "source": []
  }
 ],
 "metadata": {
  "kernelspec": {
   "display_name": "Python 3 (ipykernel)",
   "language": "python",
   "name": "python3"
  },
  "language_info": {
   "codemirror_mode": {
    "name": "ipython",
    "version": 3
   },
   "file_extension": ".py",
   "mimetype": "text/x-python",
   "name": "python",
   "nbconvert_exporter": "python",
   "pygments_lexer": "ipython3",
   "version": "3.10.8"
  }
 },
 "nbformat": 4,
 "nbformat_minor": 5
}
