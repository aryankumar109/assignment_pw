{
 "cells": [
  {
   "cell_type": "raw",
   "id": "df97389f-c8cf-43db-8f55-23fb3231eb2d",
   "metadata": {},
   "source": [
    "Consider the below code to answer further questions:\n",
    "import numpy as np\n",
    "list_ = [ ‘1’ , ’2’ , ‘3’ , ‘4’ , ‘5’ ]\n",
    "array_list = np.array(object = list_)\n",
    "Q1. Is there any difference in the data type of variables list_ and array_list? If there is then write a code\n",
    "to print the data types of both the variables.\n",
    "Q2. Write a code to print the data type of each and every element of both the variables list_ and\n",
    "arra_list.\n",
    "Q3. Considering the following changes in the variable, array_list:\n",
    "array_list = np.array(object = list_, dtype = int)\n",
    "Will there be any difference in the data type of the elements present in both the variables, list_ and\n",
    "arra_list? If so then print the data types of each and every element present in both the variables, list_\n",
    "and arra_list."
   ]
  },
  {
   "cell_type": "code",
   "execution_count": 2,
   "id": "8a14487b-1596-4240-a60c-42ec5c90bbe1",
   "metadata": {},
   "outputs": [],
   "source": [
    "import numpy as np\n",
    "list_ = [ '1' , '2' , '3' , '4' , '5']\n",
    "array_list = np.array(object = list_)"
   ]
  },
  {
   "cell_type": "code",
   "execution_count": 3,
   "id": "f75568ce-3e49-403b-b6ae-0a843ead7a41",
   "metadata": {},
   "outputs": [
    {
     "name": "stdout",
     "output_type": "stream",
     "text": [
      "Data type of list_: <class 'list'>\n",
      "Data type of array_list: <class 'numpy.ndarray'>\n"
     ]
    }
   ],
   "source": [
    "print(\"Data type of list_:\", type(list_))\n",
    "print(\"Data type of array_list:\", type(array_list))\n"
   ]
  },
  {
   "cell_type": "code",
   "execution_count": 4,
   "id": "87b67318-df9c-416b-a213-090c13d34d3a",
   "metadata": {},
   "outputs": [
    {
     "name": "stdout",
     "output_type": "stream",
     "text": [
      "Data type of element 1: <class 'str'>\n",
      "Data type of element 2: <class 'str'>\n",
      "Data type of element 3: <class 'str'>\n",
      "Data type of element 4: <class 'str'>\n",
      "Data type of element 5: <class 'str'>\n",
      "Data type of element 1: <class 'numpy.str_'>\n",
      "Data type of element 2: <class 'numpy.str_'>\n",
      "Data type of element 3: <class 'numpy.str_'>\n",
      "Data type of element 4: <class 'numpy.str_'>\n",
      "Data type of element 5: <class 'numpy.str_'>\n"
     ]
    }
   ],
   "source": [
    "# For the 'list_' variable\n",
    "for element in list_:\n",
    "    print(f\"Data type of element {element}: {type(element)}\")\n",
    "\n",
    "# For the 'array_list' variable\n",
    "for element in array_list:\n",
    "    print(f\"Data type of element {element}: {type(element)}\")\n"
   ]
  },
  {
   "cell_type": "code",
   "execution_count": 5,
   "id": "1f69d26b-d707-4bb7-b390-c3cb010ca3b8",
   "metadata": {},
   "outputs": [],
   "source": [
    "array_list = np.array(object=list_, dtype=int)\n"
   ]
  },
  {
   "cell_type": "code",
   "execution_count": 6,
   "id": "401c0a67-e267-4a15-9209-4c9049f516a5",
   "metadata": {},
   "outputs": [
    {
     "name": "stdout",
     "output_type": "stream",
     "text": [
      "Data type of element 1 in list_: <class 'str'>\n",
      "Data type of element 2 in list_: <class 'str'>\n",
      "Data type of element 3 in list_: <class 'str'>\n",
      "Data type of element 4 in list_: <class 'str'>\n",
      "Data type of element 5 in list_: <class 'str'>\n",
      "Data type of element 1 in array_list: <class 'numpy.int64'>\n",
      "Data type of element 2 in array_list: <class 'numpy.int64'>\n",
      "Data type of element 3 in array_list: <class 'numpy.int64'>\n",
      "Data type of element 4 in array_list: <class 'numpy.int64'>\n",
      "Data type of element 5 in array_list: <class 'numpy.int64'>\n"
     ]
    }
   ],
   "source": [
    "# Data types of elements in the original 'list_'\n",
    "for element in list_:\n",
    "    print(f\"Data type of element {element} in list_: {type(element)}\")\n",
    "\n",
    "# Data types of elements in the modified 'array_list'\n",
    "for element in array_list:\n",
    "    print(f\"Data type of element {element} in array_list: {type(element)}\")\n"
   ]
  },
  {
   "cell_type": "raw",
   "id": "0d44e5b3-6e7a-4ba6-8bcd-4ab95827c88d",
   "metadata": {},
   "source": [
    "Consider the below code to answer further questions:\n",
    "import numpy as np\n",
    "num_list = [ [ 1 , 2 , 3 ] , [ 4 , 5 , 6 ] ]\n",
    "num_array = np.array(object = num_list)\n",
    "Q4. Write a code to find the following characteristics of variable, num_array:\n",
    "(i) shape\n",
    "(ii) size\n",
    "Q5. Write a code to create numpy array of 3*3 matrix containing zeros only, using a numpy array\n",
    "creation function.\n",
    "[Hint: The size of the array will be 9 and the shape will be (3,3).]\n",
    "Q6. Create an identity matrix of shape (5,5) using numpy functions?\n",
    "[Hint: An identity matrix is a matrix containing 1 diagonally and other elements will be 0.]"
   ]
  },
  {
   "cell_type": "code",
   "execution_count": 7,
   "id": "94ae6989-f9f5-485e-a63a-f28608697a6d",
   "metadata": {},
   "outputs": [],
   "source": [
    "import numpy as np\n",
    "num_list = [ [ 1 , 2 , 3 ] , [ 4 , 5 , 6 ] ]\n",
    "num_array = np.array(object = num_list)"
   ]
  },
  {
   "cell_type": "code",
   "execution_count": 8,
   "id": "295ec4a8-38ee-4a14-8080-7541b51eb2b5",
   "metadata": {},
   "outputs": [
    {
     "name": "stdout",
     "output_type": "stream",
     "text": [
      "Shape of num_array: (2, 3)\n",
      "Size of num_array: 6\n"
     ]
    }
   ],
   "source": [
    "# (i) Shape of num_array\n",
    "shape = num_array.shape\n",
    "print(\"Shape of num_array:\", shape)\n",
    "\n",
    "# (ii) Size of num_array\n",
    "size = num_array.size\n",
    "print(\"Size of num_array:\", size)\n"
   ]
  },
  {
   "cell_type": "code",
   "execution_count": 9,
   "id": "82b27a60-8a90-4870-8a75-756ce91bf950",
   "metadata": {},
   "outputs": [
    {
     "name": "stdout",
     "output_type": "stream",
     "text": [
      "3x3 Zero Matrix:\n",
      "[[0. 0. 0.]\n",
      " [0. 0. 0.]\n",
      " [0. 0. 0.]]\n"
     ]
    }
   ],
   "source": [
    "zero_matrix = np.zeros((3, 3))\n",
    "print(\"3x3 Zero Matrix:\")\n",
    "print(zero_matrix)\n"
   ]
  },
  {
   "cell_type": "code",
   "execution_count": null,
   "id": "131c2707-a5a8-4180-a390-0c9c8e5a9a39",
   "metadata": {},
   "outputs": [],
   "source": []
  }
 ],
 "metadata": {
  "kernelspec": {
   "display_name": "Python 3 (ipykernel)",
   "language": "python",
   "name": "python3"
  },
  "language_info": {
   "codemirror_mode": {
    "name": "ipython",
    "version": 3
   },
   "file_extension": ".py",
   "mimetype": "text/x-python",
   "name": "python",
   "nbconvert_exporter": "python",
   "pygments_lexer": "ipython3",
   "version": "3.10.8"
  }
 },
 "nbformat": 4,
 "nbformat_minor": 5
}
