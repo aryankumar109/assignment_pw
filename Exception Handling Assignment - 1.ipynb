{
 "cells": [
  {
   "cell_type": "raw",
   "id": "e028559e-175c-4add-a788-2fc97860a2a3",
   "metadata": {},
   "source": [
    "Q1. What is an Exception in python? Write the difference between Exceptions and Syntax errors."
   ]
  },
  {
   "cell_type": "markdown",
   "id": "aa25cd19-6f8a-4bec-8ce4-b58831a4a2ed",
   "metadata": {},
   "source": [
    "In Python, an exception is an event that occurs during the execution of a program that disrupts the normal flow of code. When an exception is raised, it usually indicates that something unexpected or erroneous has occurred, and the program cannot proceed as intended. Exceptions provide a way to handle and recover from errors gracefully, preventing the program from crashing.\n",
    "\n",
    "Exceptions can be raised in various situations, such as when trying to divide by zero, accessing an index out of range in a list, or attempting to open a file that doesn't exist.\n",
    "\n",
    "Differences between Exceptions and Syntax Errors:\n",
    "\n",
    "1. Nature of Error:\n",
    "   - **Syntax Error:** Syntax errors are encountered during the parsing of the code, before the program starts executing. They occur when the code violates the rules of the Python language grammar. These errors are typically caused by typos, incorrect indentation, missing parentheses, etc. Since the code cannot even be compiled properly, a syntax error prevents the program from running.\n",
    "   - **Exception:** Exceptions occur during the execution of the program when an unexpected situation or error occurs. These can include situations like division by zero, trying to access an index that doesn't exist, or attempting to perform an operation on incompatible data types. Unlike syntax errors, exceptions are encountered at runtime.\n",
    "\n",
    "2. Detection:\n",
    "   - **Syntax Error:** Syntax errors are detected by the Python interpreter during the parsing phase, before any code execution occurs. The interpreter checks the code for correct syntax and structure.\n",
    "   - **Exception:** Exceptions are detected during runtime when the code is actually being executed. They arise when the program encounters situations that it cannot handle or proceed with normally.\n",
    "\n",
    "3. Handling:\n",
    "   - **Syntax Error:** Since syntax errors prevent the code from being executed at all, they need to be fixed in the source code before the program can be run.\n",
    "   - **Exception:** Exceptions can be handled using try-except blocks. This allows you to anticipate potential errors, capture them when they occur, and take appropriate actions to recover from them without crashing the program.\n",
    "\n",
    "4. Examples:\n",
    "   - **Syntax Error:** print hello world (missing parentheses around print  statement)\n",
    "   - **Exception:** 10/0 (division by zero)\n",
    "\n",
    "In summary, syntax errors are mistakes in the code's structure that prevent the program from being executed, while exceptions are runtime errors that occur during program execution due to unexpected situations, and they can be caught and handled using try-except blocks."
   ]
  },
  {
   "cell_type": "raw",
   "id": "8419bfc6-1da2-4a4c-8740-7938d57c1fc9",
   "metadata": {},
   "source": [
    "Q2. What happens when an exception is not handled? Explain with an example"
   ]
  },
  {
   "cell_type": "markdown",
   "id": "bbb132c8-5b26-473e-bebe-34211d453892",
   "metadata": {},
   "source": [
    "When an exception is not handled in a Python program, it leads to an abrupt termination of the program's execution. The default behavior in such cases is that the interpreter prints out an error message, known as a traceback, which provides information about the type of exception, the location in the code where the exception occurred, and the call stack leading up to that point. After displaying the traceback, the program exits.\n",
    "\n",
    "Here's an example to illustrate what happens when an exception is not handled:"
   ]
  },
  {
   "cell_type": "code",
   "execution_count": 1,
   "id": "4f796604-af01-4256-9b30-6dafe3ab68da",
   "metadata": {},
   "outputs": [
    {
     "ename": "ZeroDivisionError",
     "evalue": "division by zero",
     "output_type": "error",
     "traceback": [
      "\u001b[0;31m---------------------------------------------------------------------------\u001b[0m",
      "\u001b[0;31mZeroDivisionError\u001b[0m                         Traceback (most recent call last)",
      "Cell \u001b[0;32mIn[1], line 4\u001b[0m\n\u001b[1;32m      1\u001b[0m \u001b[38;5;28;01mdef\u001b[39;00m \u001b[38;5;21mdivide\u001b[39m(a, b):\n\u001b[1;32m      2\u001b[0m     \u001b[38;5;28;01mreturn\u001b[39;00m a \u001b[38;5;241m/\u001b[39m b\n\u001b[0;32m----> 4\u001b[0m result \u001b[38;5;241m=\u001b[39m \u001b[43mdivide\u001b[49m\u001b[43m(\u001b[49m\u001b[38;5;241;43m10\u001b[39;49m\u001b[43m,\u001b[49m\u001b[43m \u001b[49m\u001b[38;5;241;43m0\u001b[39;49m\u001b[43m)\u001b[49m\n\u001b[1;32m      5\u001b[0m \u001b[38;5;28mprint\u001b[39m(result)\n",
      "Cell \u001b[0;32mIn[1], line 2\u001b[0m, in \u001b[0;36mdivide\u001b[0;34m(a, b)\u001b[0m\n\u001b[1;32m      1\u001b[0m \u001b[38;5;28;01mdef\u001b[39;00m \u001b[38;5;21mdivide\u001b[39m(a, b):\n\u001b[0;32m----> 2\u001b[0m     \u001b[38;5;28;01mreturn\u001b[39;00m \u001b[43ma\u001b[49m\u001b[43m \u001b[49m\u001b[38;5;241;43m/\u001b[39;49m\u001b[43m \u001b[49m\u001b[43mb\u001b[49m\n",
      "\u001b[0;31mZeroDivisionError\u001b[0m: division by zero"
     ]
    }
   ],
   "source": [
    "def divide(a, b):\n",
    "    return a / b\n",
    "\n",
    "result = divide(10, 0)\n",
    "print(result)\n"
   ]
  },
  {
   "cell_type": "markdown",
   "id": "ceffe6a1-7a34-45a6-b774-c205a1831501",
   "metadata": {},
   "source": [
    "In this example, the divide function attempts to divide the first argument by the second argument. However, the second argument is 0, which will raise a ZeroDivisionError exception because you cannot divide by zero. Since this exception is not explicitly handled in the code, the program execution will stop abruptly"
   ]
  },
  {
   "cell_type": "raw",
   "id": "26fd5ae4-515d-4125-8a7e-9b52cb87e076",
   "metadata": {},
   "source": [
    "Q3. Which Python statements are used to catch and handle exceptions? Explain with an example."
   ]
  },
  {
   "cell_type": "markdown",
   "id": "87366a48-5542-4cdb-a39c-069ea438c661",
   "metadata": {},
   "source": [
    "In Python, the try and except statements are used to catch and handle exceptions. A try block is used to enclose the code that might raise an exception, and an except block follows it to specify the actions to be taken if a specific exception occurs within the try block. This mechanism allows the program to gracefully handle exceptions and continue executing, rather than abruptly crashing"
   ]
  },
  {
   "cell_type": "code",
   "execution_count": 2,
   "id": "c9d1db4a-8e3d-40f4-8024-c534a131f045",
   "metadata": {},
   "outputs": [
    {
     "name": "stdout",
     "output_type": "stream",
     "text": [
      "Division result: 5.0\n",
      "Error: Division by zero is not allowed.\n"
     ]
    }
   ],
   "source": [
    "def divide(a, b):\n",
    "    try:\n",
    "        result = a / b\n",
    "        print(\"Division result:\", result)\n",
    "    except ZeroDivisionError:\n",
    "        print(\"Error: Division by zero is not allowed.\")\n",
    "\n",
    "divide(10, 2)  # This will work fine\n",
    "divide(10, 0)  # This will raise an exception\n"
   ]
  },
  {
   "cell_type": "raw",
   "id": "88a1a007-09b5-4728-b28c-998f6f85cddf",
   "metadata": {},
   "source": [
    "Q4. Explain with an example:\n",
    "a. try and else\n",
    "b. finally\n",
    "c. raise"
   ]
  },
  {
   "cell_type": "markdown",
   "id": "6f13716b-9cec-43b5-b2ad-b7112c78f2ad",
   "metadata": {},
   "source": [
    "a. try, else:\n",
    "The else block in a try statement is executed if no exceptions are raised within the try block. It's used to specify code that should run when no exceptions occur. Here's an example:"
   ]
  },
  {
   "cell_type": "code",
   "execution_count": 3,
   "id": "94e213f2-9ae0-4b8c-b6f3-c38511618d27",
   "metadata": {},
   "outputs": [
    {
     "name": "stdin",
     "output_type": "stream",
     "text": [
      "Enter a number:  25\n"
     ]
    },
    {
     "name": "stdout",
     "output_type": "stream",
     "text": [
      "You entered: 25\n"
     ]
    }
   ],
   "source": [
    "try:\n",
    "    num = int(input(\"Enter a number: \"))\n",
    "except ValueError:\n",
    "    print(\"Invalid input. Please enter a valid number.\")\n",
    "else:\n",
    "    print(\"You entered:\", num)\n"
   ]
  },
  {
   "cell_type": "markdown",
   "id": "7e1ff954-8788-4c19-8552-ee1e2d382879",
   "metadata": {},
   "source": [
    "b. finally:\n",
    "The finally block is used to define code that will run regardless of whether an exception was raised or not. It's often used to perform cleanup operations, such as closing files or releasing resources. Here's an example:"
   ]
  },
  {
   "cell_type": "code",
   "execution_count": 5,
   "id": "e616d281-9dc3-4c7e-b5cf-ce52b259a05b",
   "metadata": {},
   "outputs": [
    {
     "name": "stdout",
     "output_type": "stream",
     "text": [
      "File not found.\n",
      "hello world \n"
     ]
    }
   ],
   "source": [
    "try:\n",
    "    file = open(\"example.txt\", \"r\")\n",
    "    content = file.read()\n",
    "except FileNotFoundError:\n",
    "    print(\"File not found.\")\n",
    "else:\n",
    "    print(\"File content:\", content)\n",
    "finally:\n",
    "    if 'file' in locals():\n",
    "        file.close()\n",
    "    print(\"hello world \")\n"
   ]
  },
  {
   "cell_type": "markdown",
   "id": "d94a88fb-5266-4882-921e-97b43a9c9d37",
   "metadata": {},
   "source": [
    "c. raise:\n",
    "The raise statement is used to manually raise exceptions in Python. You can use it to indicate that a certain condition or situation should result in a specific type of exception being raised. Here's a simple example:"
   ]
  },
  {
   "cell_type": "code",
   "execution_count": 6,
   "id": "76ffc732-6a66-4dec-af3a-21de7046bb8c",
   "metadata": {},
   "outputs": [
    {
     "name": "stdin",
     "output_type": "stream",
     "text": [
      "Enter your name:  \n"
     ]
    },
    {
     "name": "stdout",
     "output_type": "stream",
     "text": [
      "Error: Name cannot be empty\n"
     ]
    }
   ],
   "source": [
    "def greet(name):\n",
    "    if not name:\n",
    "        raise ValueError(\"Name cannot be empty\")\n",
    "    print(\"Hello,\", name)\n",
    "\n",
    "try:\n",
    "    user_name = input(\"Enter your name: \")\n",
    "    greet(user_name)\n",
    "except ValueError as ve:\n",
    "    print(\"Error:\", ve)\n"
   ]
  },
  {
   "cell_type": "raw",
   "id": "889c0de8-9ed7-4624-bb0a-b1d25f9ea0b7",
   "metadata": {},
   "source": [
    "Q5. What are Custom Exceptions in python? Why do we need Custom Exceptions? Explain with an example."
   ]
  },
  {
   "cell_type": "markdown",
   "id": "51ab335b-9183-415b-9cff-44b8b48e332f",
   "metadata": {},
   "source": [
    "Custom exceptions, also known as user-defined exceptions, are exceptions that you create yourself by defining new exception classes. These custom exception classes allow you to handle specific error scenarios in your code more effectively. While Python provides a variety of built-in exception classes (like ValueError, TypeError, etc.), creating custom exceptions can make your code more readable, maintainable, and allow you to provide more detailed information about the error.\n",
    "\n",
    "Why do we need Custom Exceptions?\n",
    "\n",
    "Clarity and Readability: Custom exceptions can provide descriptive names that reflect the specific error conditions in your code. This makes it easier for developers to understand the nature of the error and how to handle it.\n",
    "\n",
    "Modularity: By encapsulating error conditions in custom exception classes, you can separate error-handling logic from the rest of your code. This enhances code modularity and maintainability.\n",
    "\n",
    "Information Richness: Custom exceptions can include additional attributes or methods that provide context and more information about the error. This can help in better debugging and error diagnosis.\n",
    "\n",
    "Consistency: By using a uniform approach to exception handling throughout your project, you can maintain consistency and make your codebase more predictable.\n",
    "\n",
    "Example of Custom Exception:\n",
    "\n",
    "Let's say you're building a banking application, and you want to handle cases where an account balance becomes negative. Instead of using a generic exception like ValueError, you can create a custom exception to represent this specific scenario:"
   ]
  },
  {
   "cell_type": "code",
   "execution_count": 10,
   "id": "0c06bb8d-ced6-458b-bc13-ee28bccfa2b7",
   "metadata": {},
   "outputs": [
    {
     "name": "stdin",
     "output_type": "stream",
     "text": [
      "Enter your name:  \n"
     ]
    },
    {
     "name": "stdout",
     "output_type": "stream",
     "text": [
      "Error: Name cannot be empty\n"
     ]
    }
   ],
   "source": [
    "def greet(name):\n",
    "    if not name:\n",
    "        raise ValueError(\"Name cannot be empty\")\n",
    "    print(\"Hello,\", name)\n",
    "\n",
    "try:\n",
    "    user_name = input(\"Enter your name: \")\n",
    "    greet(user_name)\n",
    "except ValueError as ve:\n",
    "    print(\"Error:\", ve)\n",
    "\n"
   ]
  },
  {
   "cell_type": "raw",
   "id": "c66e188f-4155-4da2-9816-7d97d9b9e292",
   "metadata": {},
   "source": [
    "Q6. Create a custom exception class. Use this class to handle an exception."
   ]
  },
  {
   "cell_type": "code",
   "execution_count": null,
   "id": "ab6dd6e3-6315-4544-98cf-1e777f45dff5",
   "metadata": {},
   "outputs": [],
   "source": [
    "class InvalidEmailError(Exception):\n",
    "    def __init__(self, email):\n",
    "        self.email = email\n",
    "        super().__init__(f\"Invalid email address: {email}\")\n",
    "\n",
    "def validate_email(email):\n",
    "    if \"@\" not in email:\n",
    "        raise InvalidEmailError(email)\n",
    "    print(\"Email is valid:\", email)\n",
    "\n",
    "try:\n",
    "    user_email = input(\"Enter your email address: \")\n",
    "    validate_email(user_email)\n",
    "except InvalidEmailError as iee:\n",
    "    print(\"Error:\", iee)\n"
   ]
  },
  {
   "cell_type": "code",
   "execution_count": null,
   "id": "3f810f7a-8e83-44d1-a7b2-e9cb61ec85cb",
   "metadata": {},
   "outputs": [],
   "source": []
  }
 ],
 "metadata": {
  "kernelspec": {
   "display_name": "Python 3 (ipykernel)",
   "language": "python",
   "name": "python3"
  },
  "language_info": {
   "codemirror_mode": {
    "name": "ipython",
    "version": 3
   },
   "file_extension": ".py",
   "mimetype": "text/x-python",
   "name": "python",
   "nbconvert_exporter": "python",
   "pygments_lexer": "ipython3",
   "version": "3.10.8"
  }
 },
 "nbformat": 4,
 "nbformat_minor": 5
}
